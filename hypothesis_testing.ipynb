{
 "metadata": {
  "language_info": {
   "codemirror_mode": {
    "name": "ipython",
    "version": 3
   },
   "file_extension": ".py",
   "mimetype": "text/x-python",
   "name": "python",
   "nbconvert_exporter": "python",
   "pygments_lexer": "ipython3",
   "version": "3.8.5"
  },
  "orig_nbformat": 2,
  "kernelspec": {
   "name": "python385jvsc74a57bd0b64057e63add2b45b1ffc7eab9b09c8889b419c878e2fdf0d08f837f0fc857a7",
   "display_name": "Python 3.8.5 64-bit ('base': conda)"
  },
  "metadata": {
   "interpreter": {
    "hash": "b64057e63add2b45b1ffc7eab9b09c8889b419c878e2fdf0d08f837f0fc857a7"
   }
  }
 },
 "nbformat": 4,
 "nbformat_minor": 2,
 "cells": [
  {
   "source": [
    "Has the network latency gone up since we switched internet service providers?\n",
    "* null hyptohesis = Internet service has no impact on network latency\n",
    "* alternative hypothesis = Newtork latency has gone up since switching internet service providers\n",
    "* True positive = alpha > p value and we establish that internet service does impact network latency\n",
    "* True negavite = alpha < p and we establish that internet service has no impact on network latency\n",
    "* Type 1 error: we reject that internet service has no impact on network latency but the truth is there is no impact\n",
    "* Type 2 error: we don't reject that internet service has no impact on network latecny but there is significant impact\n",
    "\n",
    "$H_{0}$ \n",
    "\n"
   ],
   "cell_type": "markdown",
   "metadata": {}
  },
  {
   "source": [
    "Is the website redesign any good?\n",
    "\n",
    "* null hyptohesis = the website redisign has had no impact on sales\n",
    "* alternative hypothesis = the webstite redesign has increased sales\n",
    "* True positive = alpha > p and we establish that the website redesign has increased sales\n",
    "* True negavite = alpha < p and we establish that the website redesign has had no impact sales\n",
    "* Type 1 error: we reject that the website redesing has not increased sales but the truth is there is no impact\n",
    "* Type 2 error: we don't reject that website redesign has had no impact on sales but there has been significant impact"
   ],
   "cell_type": "markdown",
   "metadata": {}
  },
  {
   "source": [
    "Is our television ad driving more sales?\n",
    "\n",
    "* null hyptohesis = the television ad has not impacted sales\n",
    "* alternative hypothesis = the television ad has increased sales\n",
    "* True positive = alpha > p and we establish that the television ad has increased sales\n",
    "* True negavite = alpha < p and we establish that the television ad has had no impact sales\n",
    "* Type 1 error: we reject the null that television ad has not impacted sales bu the truth is there is no impact\n",
    "* Type 2 error: we don't reject the null that the television ad has had no impact on sales but there has been significant impact\n"
   ],
   "cell_type": "markdown",
   "metadata": {}
  },
  {
   "cell_type": "code",
   "execution_count": 149,
   "metadata": {},
   "outputs": [],
   "source": [
    "from math import sqrt\n",
    "from scipy import stats\n",
    "from pydataset import data\n",
    "import viz\n",
    "\n",
    "%matplotlib inline\n",
    "import matplotlib.pyplot as plt\n",
    "import numpy as np\n",
    "import pandas as pd\n"
   ]
  },
  {
   "cell_type": "code",
   "execution_count": 181,
   "metadata": {},
   "outputs": [],
   "source": [
    "# Ace Realty wants to determine whether the average time it takes to sell homes is different for its two offices. A sample of 40 sales from office #1 revealed a mean of 90 days and a standard deviation of 15 days. A sample of 50 sales from office #2 revealed a mean of 100 days and a standard deviation of 20 days. Use a .05 level of significance.\n",
    "\n",
    "    # null = location has no impact on avg home sales time\n",
    "    # alternative = site a sells houses faster than site b\n",
    "\n",
    "    # Independent Samples. yes, two separate sample sets\n",
    "\n",
    "    # Normal Distribution: greater than 30 observations so plenty to meet CLM \n",
    "\n",
    "    # Equal Variances:  variances of 219 & 393 not equal\n",
    "\n",
    "a_mean = 90\n",
    "a_stddev = 15\n",
    "b_mean = 100\n",
    "b_stddev = 20\n",
    "alpha = 0.05\n",
    "\n",
    "sitea = np.random.normal(a_mean, a_stddev, 40)\n",
    "siteb = np.random.normal(b_mean, b_stddev, 50)\n",
    "\n",
    "sitea.var(), siteb.var()\n",
    "\n",
    "\n",
    "t, p = stats.ttest_ind(sitea, siteb, equal_var= False)"
   ]
  },
  {
   "cell_type": "code",
   "execution_count": 182,
   "metadata": {},
   "outputs": [
    {
     "output_type": "execute_result",
     "data": {
      "text/plain": [
       "(-3.43464158242499, 0.0009084843336770494, 0.05)"
      ]
     },
     "metadata": {},
     "execution_count": 182
    }
   ],
   "source": [
    "t, p, alpha"
   ]
  },
  {
   "cell_type": "code",
   "execution_count": 47,
   "metadata": {},
   "outputs": [
    {
     "output_type": "stream",
     "name": "stdout",
     "text": [
      "is p < alpha?  True\nis t < 0?  True\n"
     ]
    }
   ],
   "source": [
    "print(\"is p < alpha? \", p < alpha)\n",
    "print(\"is t < 0? \", t < 0)"
   ]
  },
  {
   "cell_type": "code",
   "execution_count": null,
   "metadata": {},
   "outputs": [],
   "source": [
    "# Load the mpg dataset and use it to answer the following questions:\n",
    "\n",
    "# Is there a difference in fuel-efficiency in cars from 2008 vs 1999?\n",
    "# Are compact cars more fuel-efficient than the average car?\n",
    "# # Do manual cars get better gas mileage than automatic cars?"
   ]
  },
  {
   "cell_type": "code",
   "execution_count": 27,
   "metadata": {},
   "outputs": [
    {
     "output_type": "execute_result",
     "data": {
      "text/plain": [
       "    manufacturer   model  displ  year  cyl       trans drv  cty  hwy fl  \\\n",
       "1           audi      a4    1.8  1999    4    auto(l5)   f   18   29  p   \n",
       "2           audi      a4    1.8  1999    4  manual(m5)   f   21   29  p   \n",
       "3           audi      a4    2.0  2008    4  manual(m6)   f   20   31  p   \n",
       "4           audi      a4    2.0  2008    4    auto(av)   f   21   30  p   \n",
       "5           audi      a4    2.8  1999    6    auto(l5)   f   16   26  p   \n",
       "..           ...     ...    ...   ...  ...         ...  ..  ...  ... ..   \n",
       "230   volkswagen  passat    2.0  2008    4    auto(s6)   f   19   28  p   \n",
       "231   volkswagen  passat    2.0  2008    4  manual(m6)   f   21   29  p   \n",
       "232   volkswagen  passat    2.8  1999    6    auto(l5)   f   16   26  p   \n",
       "233   volkswagen  passat    2.8  1999    6  manual(m5)   f   18   26  p   \n",
       "234   volkswagen  passat    3.6  2008    6    auto(s6)   f   17   26  p   \n",
       "\n",
       "       class  \n",
       "1    compact  \n",
       "2    compact  \n",
       "3    compact  \n",
       "4    compact  \n",
       "5    compact  \n",
       "..       ...  \n",
       "230  midsize  \n",
       "231  midsize  \n",
       "232  midsize  \n",
       "233  midsize  \n",
       "234  midsize  \n",
       "\n",
       "[234 rows x 11 columns]"
      ],
      "text/html": "<div>\n<style scoped>\n    .dataframe tbody tr th:only-of-type {\n        vertical-align: middle;\n    }\n\n    .dataframe tbody tr th {\n        vertical-align: top;\n    }\n\n    .dataframe thead th {\n        text-align: right;\n    }\n</style>\n<table border=\"1\" class=\"dataframe\">\n  <thead>\n    <tr style=\"text-align: right;\">\n      <th></th>\n      <th>manufacturer</th>\n      <th>model</th>\n      <th>displ</th>\n      <th>year</th>\n      <th>cyl</th>\n      <th>trans</th>\n      <th>drv</th>\n      <th>cty</th>\n      <th>hwy</th>\n      <th>fl</th>\n      <th>class</th>\n    </tr>\n  </thead>\n  <tbody>\n    <tr>\n      <th>1</th>\n      <td>audi</td>\n      <td>a4</td>\n      <td>1.8</td>\n      <td>1999</td>\n      <td>4</td>\n      <td>auto(l5)</td>\n      <td>f</td>\n      <td>18</td>\n      <td>29</td>\n      <td>p</td>\n      <td>compact</td>\n    </tr>\n    <tr>\n      <th>2</th>\n      <td>audi</td>\n      <td>a4</td>\n      <td>1.8</td>\n      <td>1999</td>\n      <td>4</td>\n      <td>manual(m5)</td>\n      <td>f</td>\n      <td>21</td>\n      <td>29</td>\n      <td>p</td>\n      <td>compact</td>\n    </tr>\n    <tr>\n      <th>3</th>\n      <td>audi</td>\n      <td>a4</td>\n      <td>2.0</td>\n      <td>2008</td>\n      <td>4</td>\n      <td>manual(m6)</td>\n      <td>f</td>\n      <td>20</td>\n      <td>31</td>\n      <td>p</td>\n      <td>compact</td>\n    </tr>\n    <tr>\n      <th>4</th>\n      <td>audi</td>\n      <td>a4</td>\n      <td>2.0</td>\n      <td>2008</td>\n      <td>4</td>\n      <td>auto(av)</td>\n      <td>f</td>\n      <td>21</td>\n      <td>30</td>\n      <td>p</td>\n      <td>compact</td>\n    </tr>\n    <tr>\n      <th>5</th>\n      <td>audi</td>\n      <td>a4</td>\n      <td>2.8</td>\n      <td>1999</td>\n      <td>6</td>\n      <td>auto(l5)</td>\n      <td>f</td>\n      <td>16</td>\n      <td>26</td>\n      <td>p</td>\n      <td>compact</td>\n    </tr>\n    <tr>\n      <th>...</th>\n      <td>...</td>\n      <td>...</td>\n      <td>...</td>\n      <td>...</td>\n      <td>...</td>\n      <td>...</td>\n      <td>...</td>\n      <td>...</td>\n      <td>...</td>\n      <td>...</td>\n      <td>...</td>\n    </tr>\n    <tr>\n      <th>230</th>\n      <td>volkswagen</td>\n      <td>passat</td>\n      <td>2.0</td>\n      <td>2008</td>\n      <td>4</td>\n      <td>auto(s6)</td>\n      <td>f</td>\n      <td>19</td>\n      <td>28</td>\n      <td>p</td>\n      <td>midsize</td>\n    </tr>\n    <tr>\n      <th>231</th>\n      <td>volkswagen</td>\n      <td>passat</td>\n      <td>2.0</td>\n      <td>2008</td>\n      <td>4</td>\n      <td>manual(m6)</td>\n      <td>f</td>\n      <td>21</td>\n      <td>29</td>\n      <td>p</td>\n      <td>midsize</td>\n    </tr>\n    <tr>\n      <th>232</th>\n      <td>volkswagen</td>\n      <td>passat</td>\n      <td>2.8</td>\n      <td>1999</td>\n      <td>6</td>\n      <td>auto(l5)</td>\n      <td>f</td>\n      <td>16</td>\n      <td>26</td>\n      <td>p</td>\n      <td>midsize</td>\n    </tr>\n    <tr>\n      <th>233</th>\n      <td>volkswagen</td>\n      <td>passat</td>\n      <td>2.8</td>\n      <td>1999</td>\n      <td>6</td>\n      <td>manual(m5)</td>\n      <td>f</td>\n      <td>18</td>\n      <td>26</td>\n      <td>p</td>\n      <td>midsize</td>\n    </tr>\n    <tr>\n      <th>234</th>\n      <td>volkswagen</td>\n      <td>passat</td>\n      <td>3.6</td>\n      <td>2008</td>\n      <td>6</td>\n      <td>auto(s6)</td>\n      <td>f</td>\n      <td>17</td>\n      <td>26</td>\n      <td>p</td>\n      <td>midsize</td>\n    </tr>\n  </tbody>\n</table>\n<p>234 rows × 11 columns</p>\n</div>"
     },
     "metadata": {},
     "execution_count": 27
    }
   ],
   "source": [
    "mpg = data('mpg')\n",
    "mpg"
   ]
  },
  {
   "cell_type": "code",
   "execution_count": 73,
   "metadata": {},
   "outputs": [
    {
     "output_type": "execute_result",
     "data": {
      "text/plain": [
       "  manufacturer model  displ  year  cyl       trans drv  cty  hwy fl    class\n",
       "1         audi    a4    1.8  1999    4    auto(l5)   f   18   29  p  compact\n",
       "2         audi    a4    1.8  1999    4  manual(m5)   f   21   29  p  compact"
      ],
      "text/html": "<div>\n<style scoped>\n    .dataframe tbody tr th:only-of-type {\n        vertical-align: middle;\n    }\n\n    .dataframe tbody tr th {\n        vertical-align: top;\n    }\n\n    .dataframe thead th {\n        text-align: right;\n    }\n</style>\n<table border=\"1\" class=\"dataframe\">\n  <thead>\n    <tr style=\"text-align: right;\">\n      <th></th>\n      <th>manufacturer</th>\n      <th>model</th>\n      <th>displ</th>\n      <th>year</th>\n      <th>cyl</th>\n      <th>trans</th>\n      <th>drv</th>\n      <th>cty</th>\n      <th>hwy</th>\n      <th>fl</th>\n      <th>class</th>\n    </tr>\n  </thead>\n  <tbody>\n    <tr>\n      <th>1</th>\n      <td>audi</td>\n      <td>a4</td>\n      <td>1.8</td>\n      <td>1999</td>\n      <td>4</td>\n      <td>auto(l5)</td>\n      <td>f</td>\n      <td>18</td>\n      <td>29</td>\n      <td>p</td>\n      <td>compact</td>\n    </tr>\n    <tr>\n      <th>2</th>\n      <td>audi</td>\n      <td>a4</td>\n      <td>1.8</td>\n      <td>1999</td>\n      <td>4</td>\n      <td>manual(m5)</td>\n      <td>f</td>\n      <td>21</td>\n      <td>29</td>\n      <td>p</td>\n      <td>compact</td>\n    </tr>\n  </tbody>\n</table>\n</div>"
     },
     "metadata": {},
     "execution_count": 73
    }
   ],
   "source": [
    "avg_mpg = (mpg['cty'] + mpg['hwy'])/2\n",
    "eight_fuel = (mpg.year == 2008)\n",
    "x = mpg[eight_fuel]\n",
    "nine_fuel = (mpg.year == 1999)\n",
    "y = mpg[nine_fuel]\n",
    "y"
   ]
  },
  {
   "source": [
    "null_hypothesis = there is no difference in fuel efficiency between the 1999 & 2008"
   ],
   "cell_type": "markdown",
   "metadata": {}
  },
  {
   "cell_type": "code",
   "execution_count": 97,
   "metadata": {},
   "outputs": [],
   "source": [
    "mpg[\"avg_mpg\"] = (mpg.cty + mpg.hwy)/2\n",
    "avg_08 = mpg[mpg.year == 2008].avg_mpg\n",
    "avg_99 = mpg[mpg.year == 1999].avg_mpg"
   ]
  },
  {
   "cell_type": "code",
   "execution_count": 98,
   "metadata": {},
   "outputs": [
    {
     "output_type": "execute_result",
     "data": {
      "text/plain": [
       "(24.097480106100797, 27.122605363984682)"
      ]
     },
     "metadata": {},
     "execution_count": 98
    }
   ],
   "source": [
    "# Variance:  Similar\n",
    "avg_08.var(), avg_99.var()"
   ]
  },
  {
   "cell_type": "code",
   "execution_count": 104,
   "metadata": {},
   "outputs": [
    {
     "output_type": "execute_result",
     "data": {
      "text/plain": [
       "(-0.21960177245940962, 0.8263744040323578, 0.05)"
      ]
     },
     "metadata": {},
     "execution_count": 104
    }
   ],
   "source": [
    "# Is there a difference in fuel-efficiency in cars from 2008 vs 1999?  No\n",
    "\n",
    "t, p = stats.ttest_ind(avg_08, avg_99)\n",
    "\n",
    "t, p, alpha"
   ]
  },
  {
   "cell_type": "code",
   "execution_count": 131,
   "metadata": {},
   "outputs": [],
   "source": [
    "# Are compact cars more fuel-efficient than the average car?\n",
    "mpg[\"avg_mpg\"] = (mpg.cty + mpg.hwy)/2\n",
    "mpg[\"avg_mpg\"] = (mpg.cty + mpg.hwy)/2\n",
    "compact = mpg[mpg[\"class\"] == 'compact'].avg_mpg\n",
    "carpop = mpg[\"avg_mpg\"].mean()\n"
   ]
  },
  {
   "cell_type": "code",
   "execution_count": 125,
   "metadata": {},
   "outputs": [
    {
     "output_type": "execute_result",
     "data": {
      "text/plain": [
       "(12.442876965772433, 25.50542900113715)"
      ]
     },
     "metadata": {},
     "execution_count": 125
    }
   ],
   "source": [
    "compact.var(), carpop.var()\n",
    "# 12.4 & 25.5 not the same"
   ]
  },
  {
   "cell_type": "code",
   "execution_count": 132,
   "metadata": {},
   "outputs": [
    {
     "output_type": "execute_result",
     "data": {
      "text/plain": [
       "(7.896888573132535, 2.0992818971585668e-10, 0.05)"
      ]
     },
     "metadata": {},
     "execution_count": 132
    }
   ],
   "source": [
    "\n",
    "t, p = stats.ttest_1samp(compact, carpop)\n",
    "\n",
    "t, p/2, alpha"
   ]
  },
  {
   "cell_type": "code",
   "execution_count": 169,
   "metadata": {},
   "outputs": [],
   "source": [
    "# Do manual cars get better gas mileage than automatic cars?\n",
    "\n",
    "mpg[\"avg_mpg\"] = (mpg.cty + mpg.hwy)/2\n",
    "mpg['auto'] = mpg[mpg['trans'].str.startswith('a')].avg_mpg\n",
    "mpg['manual'] = mpg[mpg['trans'].str.startswith('m')].avg_mpg\n",
    "auto = mpg[mpg[\"a or m\"] == 'auto'].avg_mpg\n",
    "manual = mpg[mpg[\"a or m\"] == 'manual'].avg_mpg"
   ]
  },
  {
   "cell_type": "code",
   "execution_count": 171,
   "metadata": {},
   "outputs": [
    {
     "output_type": "execute_result",
     "data": {
      "text/plain": [
       "(21.942777233382337, 26.635167464114826)"
      ]
     },
     "metadata": {},
     "execution_count": 171
    }
   ],
   "source": [
    "auto.var(), manual.var()"
   ]
  },
  {
   "cell_type": "code",
   "execution_count": 176,
   "metadata": {},
   "outputs": [
    {
     "output_type": "execute_result",
     "data": {
      "text/plain": [
       "(4.443514012903071, 1.795224899991793e-05, 0.05)"
      ]
     },
     "metadata": {},
     "execution_count": 176
    }
   ],
   "source": [
    "t, p = stats.ttest_ind(manual, auto, equal_var=False)\n",
    "t, p, alpha"
   ]
  },
  {
   "cell_type": "code",
   "execution_count": 275,
   "metadata": {},
   "outputs": [
    {
     "output_type": "stream",
     "name": "stdout",
     "text": [
      "<class 'pandas.core.frame.DataFrame'>\nRangeIndex: 7043 entries, 0 to 7042\nData columns (total 21 columns):\n #   Column            Non-Null Count  Dtype  \n---  ------            --------------  -----  \n 0   customerID        7043 non-null   object \n 1   gender            7043 non-null   object \n 2   SeniorCitizen     7043 non-null   int64  \n 3   Partner           7043 non-null   object \n 4   Dependents        7043 non-null   object \n 5   tenure            7043 non-null   int64  \n 6   PhoneService      7043 non-null   object \n 7   MultipleLines     7043 non-null   object \n 8   InternetService   7043 non-null   object \n 9   OnlineSecurity    7043 non-null   object \n 10  OnlineBackup      7043 non-null   object \n 11  DeviceProtection  7043 non-null   object \n 12  TechSupport       7043 non-null   object \n 13  StreamingTV       7043 non-null   object \n 14  StreamingMovies   7043 non-null   object \n 15  Contract          7043 non-null   object \n 16  PaperlessBilling  7043 non-null   object \n 17  PaymentMethod     7043 non-null   object \n 18  MonthlyCharges    7043 non-null   float64\n 19  TotalCharges      7043 non-null   object \n 20  Churn             7043 non-null   object \ndtypes: float64(1), int64(2), object(18)\nmemory usage: 1.1+ MB\n"
     ]
    }
   ],
   "source": [
    "# Use the telco_churn data. Does tenure correlate with monthly charges? Total charges? What happens if you control for phone and internet service?\n",
    "\n",
    "df = pd.read_csv('Cust_Churn_Telco.csv')\n",
    "df.info()"
   ]
  },
  {
   "cell_type": "code",
   "execution_count": 278,
   "metadata": {},
   "outputs": [
    {
     "output_type": "stream",
     "name": "stdout",
     "text": [
      "<class 'pandas.core.frame.DataFrame'>\nRangeIndex: 7043 entries, 0 to 7042\nData columns (total 21 columns):\n #   Column            Non-Null Count  Dtype  \n---  ------            --------------  -----  \n 0   customerID        7043 non-null   object \n 1   gender            7043 non-null   object \n 2   SeniorCitizen     7043 non-null   int64  \n 3   Partner           7043 non-null   object \n 4   Dependents        7043 non-null   object \n 5   tenure            7043 non-null   int64  \n 6   PhoneService      7043 non-null   object \n 7   MultipleLines     7043 non-null   object \n 8   InternetService   7043 non-null   object \n 9   OnlineSecurity    7043 non-null   object \n 10  OnlineBackup      7043 non-null   object \n 11  DeviceProtection  7043 non-null   object \n 12  TechSupport       7043 non-null   object \n 13  StreamingTV       7043 non-null   object \n 14  StreamingMovies   7043 non-null   object \n 15  Contract          7043 non-null   object \n 16  PaperlessBilling  7043 non-null   object \n 17  PaymentMethod     7043 non-null   object \n 18  MonthlyCharges    7043 non-null   float64\n 19  TotalCharges      7032 non-null   float64\n 20  Churn             7043 non-null   object \ndtypes: float64(2), int64(2), object(17)\nmemory usage: 1.1+ MB\n"
     ]
    }
   ],
   "source": [
    "df['TotalCharges'] = pd.to_numeric(df['TotalCharges'], errors='coerce')"
   ]
  },
  {
   "cell_type": "code",
   "execution_count": 296,
   "metadata": {},
   "outputs": [
    {
     "output_type": "execute_result",
     "data": {
      "text/plain": [
       "(0.2478998562861525, 4.094044991483017e-99)"
      ]
     },
     "metadata": {},
     "execution_count": 296
    }
   ],
   "source": [
    "# Does tenure correlate with monthly charges?\n",
    "# null_hypothesis: Tenure does not correlate with monthly charges\n",
    "# alt_hypothesis: Tenure does correlate with monthly charges?\n",
    "# 0.2478% r score suggests a small correlation and a p score < .01 suggests we can reject the null hypothesis\n",
    "\n",
    "x = df.tenure\n",
    "y = df.MonthlyCharges\n",
    "r, p = stats.pearsonr(x, y)\n",
    "r, p\n"
   ]
  },
  {
   "cell_type": "code",
   "execution_count": 294,
   "metadata": {},
   "outputs": [
    {
     "output_type": "execute_result",
     "data": {
      "text/plain": [
       "(0.8261783979502477, 0.0)"
      ]
     },
     "metadata": {},
     "execution_count": 294
    }
   ],
   "source": [
    "#  Does tenure correlate with Total charges?\n",
    "# null_hypothesis: Tenure does not correlate with total charges\n",
    "# alt_hypothesis: Tenure does correlate with total charges?\n",
    "# 0.82% r score suggests a large correlation and a p score < .00 suggests we can reject the null hypothesis\n",
    "\n",
    "x = df.tenure\n",
    "y = df.TotalCharges.fillna(0)\n",
    "r, p = stats.pearsonr(x, y)\n",
    "r, p"
   ]
  },
  {
   "cell_type": "code",
   "execution_count": 314,
   "metadata": {},
   "outputs": [
    {
     "output_type": "execute_result",
     "data": {
      "text/plain": [
       "(0.2453889858536324, 7.117871077925186e-88)"
      ]
     },
     "metadata": {},
     "execution_count": 314
    }
   ],
   "source": [
    "# What happens if you control for phone and internet service?\n",
    "# Monthly Charges & PhoneService = Yes: r = 0.245 & p =7.11-88.  \n",
    "x = df['tenure'][df['PhoneService'] == \"Yes\"]\n",
    "y = df['MonthlyCharges'][df['PhoneService'] == \"Yes\"]\n",
    "r, p = stats.pearsonr(x, y)\n",
    "r, p"
   ]
  },
  {
   "cell_type": "code",
   "execution_count": 315,
   "metadata": {},
   "outputs": [
    {
     "output_type": "execute_result",
     "data": {
      "text/plain": [
       "(0.5857597986661375, 4.6033703473404816e-64)"
      ]
     },
     "metadata": {},
     "execution_count": 315
    }
   ],
   "source": [
    "# Monthly Charges & PhoneService = No: r = 0.585 & p =4.60-64. \n",
    "x = df['tenure'][df['PhoneService'] != \"Yes\"]\n",
    "y = df['MonthlyCharges'][df['PhoneService'] != \"Yes\"]\n",
    "r, p = stats.pearsonr(x, y)\n",
    "r, p"
   ]
  },
  {
   "source": [
    "# When controlling for PhoneService, tenure impacts MonthlyCharges much more when client does not subscribe to Phone Services."
   ],
   "cell_type": "markdown",
   "metadata": {}
  },
  {
   "cell_type": "code",
   "execution_count": 318,
   "metadata": {},
   "outputs": [
    {
     "output_type": "execute_result",
     "data": {
      "text/plain": [
       "(0.37230662631986955, 5.89096358049607e-181)"
      ]
     },
     "metadata": {},
     "execution_count": 318
    }
   ],
   "source": [
    "\n",
    "# Monthly Charges & Internet Service = Yes: r = 0.373 & p =5.85-181.  \n",
    "x = df['tenure'][df['InternetService'] != \"No\"]\n",
    "y = df['MonthlyCharges'][df['InternetService'] != \"No\"]\n",
    "r, p = stats.pearsonr(x, y)\n",
    "r, p"
   ]
  },
  {
   "cell_type": "code",
   "execution_count": 319,
   "metadata": {},
   "outputs": [
    {
     "output_type": "execute_result",
     "data": {
      "text/plain": [
       "(0.34232562306194547, 3.3561869551954843e-43)"
      ]
     },
     "metadata": {},
     "execution_count": 319
    }
   ],
   "source": [
    "# Monthly Charges & Internet Service = No: r = 0.343 & p =3.35-43.  \n",
    "x = df['tenure'][df['InternetService'] == \"No\"]\n",
    "y = df['MonthlyCharges'][df['InternetService'] == \"No\"]\n",
    "r, p = stats.pearsonr(x, y)\n",
    "r, p"
   ]
  },
  {
   "source": [
    "# When controlling for Internet Service, tenure does impact MonthlyCharges but the impact is similar whether or not they are an Internet subscriber.\n"
   ],
   "cell_type": "markdown",
   "metadata": {}
  },
  {
   "cell_type": "code",
   "execution_count": 4,
   "metadata": {},
   "outputs": [],
   "source": [
    "# Use the employees database.\n",
    "# Is there a relationship between how long an employee has been with the company and their salary?\n",
    "# # Is there a relationship between how long an employee has been with the company and the number of titles they have had?\n",
    "\n",
    "import pandas as pd \n",
    "import numpy as np\n",
    "from datetime import date\n",
    "from env import host, username, password\n",
    "\n",
    "def get_db_url(host, username, password, database):\n",
    "    url = f'mysql+pymysql://{username}:{password}@{host}/{database}'\n",
    "    return url\n",
    "\n",
    "url = get_db_url(host, username, password, 'employees')\n"
   ]
  },
  {
   "cell_type": "code",
   "execution_count": 5,
   "metadata": {},
   "outputs": [],
   "source": [
    "salaries = pd.read_sql('select * from salaries', url)\n"
   ]
  },
  {
   "cell_type": "code",
   "execution_count": 6,
   "metadata": {},
   "outputs": [],
   "source": [
    "employees = pd.read_sql('select * from employees', url)"
   ]
  },
  {
   "cell_type": "code",
   "execution_count": 7,
   "metadata": {},
   "outputs": [],
   "source": [
    "titles = pd.read_sql('select * from titles', url)"
   ]
  },
  {
   "cell_type": "code",
   "execution_count": 17,
   "metadata": {},
   "outputs": [
    {
     "output_type": "stream",
     "name": "stdout",
     "text": [
      "<class 'pandas.core.frame.DataFrame'>\nInt64Index: 2844047 entries, 0 to 2844046\nData columns (total 9 columns):\n #   Column      Dtype \n---  ------      ----- \n 0   emp_no      int64 \n 1   salary      int64 \n 2   from_date   object\n 3   to_date     object\n 4   birth_date  object\n 5   first_name  object\n 6   last_name   object\n 7   gender      object\n 8   hire_date   object\ndtypes: int64(2), object(7)\nmemory usage: 217.0+ MB\n"
     ]
    }
   ],
   "source": [
    "# Is there a relationship between how long an employee has been with the company and their salary?\n",
    "\n",
    "sal_emp = salaries.merge(employees, on='emp_no', how='inner')\n",
    "sal_emp.info()"
   ]
  },
  {
   "cell_type": "code",
   "execution_count": 37,
   "metadata": {},
   "outputs": [],
   "source": [
    "# to convert 9999-01-01 to 2021-05-11 had to change object to byte then to string\n",
    "sal_emp['to_date'] = sal_emp['to_date'].astype('|S')\n",
    "sal_emp['to_date'] = sal_emp['to_date'].str.decode('utf-8')\n",
    "sal_emp['to_date'] = sal_emp['to_date'].str.replace('9999-01-01', '2021-05-11')\n",
    "sal_emp['to_date'] = pd.to_datetime(sal_emp['to_date'])"
   ]
  },
  {
   "cell_type": "code",
   "execution_count": 72,
   "metadata": {},
   "outputs": [],
   "source": [
    "from datetime import datetime\n",
    "sal_emp['to_date'] = pd.to_datetime(sal_emp['to_date'])\n",
    "sal_emp['hire_date'] = pd.to_datetime(sal_emp['hire_date'])\n",
    "sal_emp['tenure'] = sal_emp['to_date']-sal_emp['hire_date']\n"
   ]
  },
  {
   "cell_type": "code",
   "execution_count": 91,
   "metadata": {},
   "outputs": [],
   "source": [
    "sal_emp.tenure = sal_emp.tenure.astype(int)"
   ]
  },
  {
   "cell_type": "code",
   "execution_count": 93,
   "metadata": {},
   "outputs": [
    {
     "output_type": "execute_result",
     "data": {
      "text/plain": [
       "(0.3113516051423787, 0.0)"
      ]
     },
     "metadata": {},
     "execution_count": 93
    }
   ],
   "source": [
    "x = sal_emp.tenure\n",
    "y = sal_emp.salary\n",
    "r, p = stats.pearsonr(x, y)\n",
    "r, p\n"
   ]
  },
  {
   "cell_type": "code",
   "execution_count": 73,
   "metadata": {},
   "outputs": [
    {
     "output_type": "error",
     "ename": "UFuncTypeError",
     "evalue": "ufunc 'add' cannot use operands with types dtype('float64') and dtype('<m8[ns]')",
     "traceback": [
      "\u001b[0;31m---------------------------------------------------------------------------\u001b[0m",
      "\u001b[0;31mUFuncTypeError\u001b[0m                            Traceback (most recent call last)",
      "\u001b[0;32m<ipython-input-73-55bee75f4bb6>\u001b[0m in \u001b[0;36m<module>\u001b[0;34m\u001b[0m\n\u001b[1;32m      1\u001b[0m \u001b[0mx\u001b[0m \u001b[0;34m=\u001b[0m \u001b[0msal_emp\u001b[0m\u001b[0;34m.\u001b[0m\u001b[0mtenure\u001b[0m\u001b[0;34m\u001b[0m\u001b[0;34m\u001b[0m\u001b[0m\n\u001b[1;32m      2\u001b[0m \u001b[0my\u001b[0m \u001b[0;34m=\u001b[0m \u001b[0msal_emp\u001b[0m\u001b[0;34m.\u001b[0m\u001b[0msalary\u001b[0m\u001b[0;34m\u001b[0m\u001b[0;34m\u001b[0m\u001b[0m\n\u001b[0;32m----> 3\u001b[0;31m \u001b[0mr\u001b[0m\u001b[0;34m,\u001b[0m \u001b[0mp\u001b[0m \u001b[0;34m=\u001b[0m \u001b[0mstats\u001b[0m\u001b[0;34m.\u001b[0m\u001b[0mpearsonr\u001b[0m\u001b[0;34m(\u001b[0m\u001b[0mx\u001b[0m\u001b[0;34m,\u001b[0m \u001b[0my\u001b[0m\u001b[0;34m)\u001b[0m\u001b[0;34m\u001b[0m\u001b[0;34m\u001b[0m\u001b[0m\n\u001b[0m\u001b[1;32m      4\u001b[0m \u001b[0mr\u001b[0m\u001b[0;34m,\u001b[0m \u001b[0mp\u001b[0m\u001b[0;34m\u001b[0m\u001b[0;34m\u001b[0m\u001b[0m\n",
      "\u001b[0;32m/opt/homebrew/anaconda3/lib/python3.8/site-packages/scipy/stats/stats.py\u001b[0m in \u001b[0;36mpearsonr\u001b[0;34m(x, y)\u001b[0m\n\u001b[1;32m   3849\u001b[0m     \u001b[0;31m# that the data type is at least 64 bit floating point.  It might have\u001b[0m\u001b[0;34m\u001b[0m\u001b[0;34m\u001b[0m\u001b[0;34m\u001b[0m\u001b[0m\n\u001b[1;32m   3850\u001b[0m     \u001b[0;31m# more precision if the input is, for example, np.longdouble.\u001b[0m\u001b[0;34m\u001b[0m\u001b[0;34m\u001b[0m\u001b[0;34m\u001b[0m\u001b[0m\n\u001b[0;32m-> 3851\u001b[0;31m     \u001b[0mdtype\u001b[0m \u001b[0;34m=\u001b[0m \u001b[0mtype\u001b[0m\u001b[0;34m(\u001b[0m\u001b[0;36m1.0\u001b[0m \u001b[0;34m+\u001b[0m \u001b[0mx\u001b[0m\u001b[0;34m[\u001b[0m\u001b[0;36m0\u001b[0m\u001b[0;34m]\u001b[0m \u001b[0;34m+\u001b[0m \u001b[0my\u001b[0m\u001b[0;34m[\u001b[0m\u001b[0;36m0\u001b[0m\u001b[0;34m]\u001b[0m\u001b[0;34m)\u001b[0m\u001b[0;34m\u001b[0m\u001b[0;34m\u001b[0m\u001b[0m\n\u001b[0m\u001b[1;32m   3852\u001b[0m \u001b[0;34m\u001b[0m\u001b[0m\n\u001b[1;32m   3853\u001b[0m     \u001b[0;32mif\u001b[0m \u001b[0mn\u001b[0m \u001b[0;34m==\u001b[0m \u001b[0;36m2\u001b[0m\u001b[0;34m:\u001b[0m\u001b[0;34m\u001b[0m\u001b[0;34m\u001b[0m\u001b[0m\n",
      "\u001b[0;31mUFuncTypeError\u001b[0m: ufunc 'add' cannot use operands with types dtype('float64') and dtype('<m8[ns]')"
     ]
    }
   ],
   "source": []
  },
  {
   "cell_type": "code",
   "execution_count": 110,
   "metadata": {},
   "outputs": [
    {
     "output_type": "execute_result",
     "data": {
      "text/plain": [
       "         emp_no  birth_date first_name last_name gender   hire_date  emp_no  \\\n",
       "0         10001  1953-09-02     Georgi   Facello      M  1986-06-26   10001   \n",
       "1         10001  1953-09-02     Georgi   Facello      M  1986-06-26   10001   \n",
       "2         10001  1953-09-02     Georgi   Facello      M  1986-06-26   10001   \n",
       "3         10001  1953-09-02     Georgi   Facello      M  1986-06-26   10001   \n",
       "4         10001  1953-09-02     Georgi   Facello      M  1986-06-26   10001   \n",
       "...         ...         ...        ...       ...    ...         ...     ...   \n",
       "2844042  499999  1958-05-01     Sachin   Tsukuda      M  1997-11-30  499999   \n",
       "2844043  499999  1958-05-01     Sachin   Tsukuda      M  1997-11-30  499999   \n",
       "2844044  499999  1958-05-01     Sachin   Tsukuda      M  1997-11-30  499999   \n",
       "2844045  499999  1958-05-01     Sachin   Tsukuda      M  1997-11-30  499999   \n",
       "2844046  499999  1958-05-01     Sachin   Tsukuda      M  1997-11-30  499999   \n",
       "\n",
       "         salary   from_date     to_date tenure  \n",
       "0         60117  1986-06-26  1987-06-26 0 days  \n",
       "1         62102  1987-06-26  1988-06-25 0 days  \n",
       "2         66074  1988-06-25  1989-06-25 0 days  \n",
       "3         66596  1989-06-25  1990-06-25 0 days  \n",
       "4         66961  1990-06-25  1991-06-25 0 days  \n",
       "...         ...         ...         ...    ...  \n",
       "2844042   63707  1997-11-30  1998-11-30 0 days  \n",
       "2844043   67043  1998-11-30  1999-11-30 0 days  \n",
       "2844044   70745  1999-11-30  2000-11-29 0 days  \n",
       "2844045   74327  2000-11-29  2001-11-29 0 days  \n",
       "2844046   77303  2001-11-29  9999-01-01 0 days  \n",
       "\n",
       "[2844047 rows x 11 columns]"
      ],
      "text/html": "<div>\n<style scoped>\n    .dataframe tbody tr th:only-of-type {\n        vertical-align: middle;\n    }\n\n    .dataframe tbody tr th {\n        vertical-align: top;\n    }\n\n    .dataframe thead th {\n        text-align: right;\n    }\n</style>\n<table border=\"1\" class=\"dataframe\">\n  <thead>\n    <tr style=\"text-align: right;\">\n      <th></th>\n      <th>emp_no</th>\n      <th>birth_date</th>\n      <th>first_name</th>\n      <th>last_name</th>\n      <th>gender</th>\n      <th>hire_date</th>\n      <th>emp_no</th>\n      <th>salary</th>\n      <th>from_date</th>\n      <th>to_date</th>\n      <th>tenure</th>\n    </tr>\n  </thead>\n  <tbody>\n    <tr>\n      <th>0</th>\n      <td>10001</td>\n      <td>1953-09-02</td>\n      <td>Georgi</td>\n      <td>Facello</td>\n      <td>M</td>\n      <td>1986-06-26</td>\n      <td>10001</td>\n      <td>60117</td>\n      <td>1986-06-26</td>\n      <td>1987-06-26</td>\n      <td>0 days</td>\n    </tr>\n    <tr>\n      <th>1</th>\n      <td>10001</td>\n      <td>1953-09-02</td>\n      <td>Georgi</td>\n      <td>Facello</td>\n      <td>M</td>\n      <td>1986-06-26</td>\n      <td>10001</td>\n      <td>62102</td>\n      <td>1987-06-26</td>\n      <td>1988-06-25</td>\n      <td>0 days</td>\n    </tr>\n    <tr>\n      <th>2</th>\n      <td>10001</td>\n      <td>1953-09-02</td>\n      <td>Georgi</td>\n      <td>Facello</td>\n      <td>M</td>\n      <td>1986-06-26</td>\n      <td>10001</td>\n      <td>66074</td>\n      <td>1988-06-25</td>\n      <td>1989-06-25</td>\n      <td>0 days</td>\n    </tr>\n    <tr>\n      <th>3</th>\n      <td>10001</td>\n      <td>1953-09-02</td>\n      <td>Georgi</td>\n      <td>Facello</td>\n      <td>M</td>\n      <td>1986-06-26</td>\n      <td>10001</td>\n      <td>66596</td>\n      <td>1989-06-25</td>\n      <td>1990-06-25</td>\n      <td>0 days</td>\n    </tr>\n    <tr>\n      <th>4</th>\n      <td>10001</td>\n      <td>1953-09-02</td>\n      <td>Georgi</td>\n      <td>Facello</td>\n      <td>M</td>\n      <td>1986-06-26</td>\n      <td>10001</td>\n      <td>66961</td>\n      <td>1990-06-25</td>\n      <td>1991-06-25</td>\n      <td>0 days</td>\n    </tr>\n    <tr>\n      <th>...</th>\n      <td>...</td>\n      <td>...</td>\n      <td>...</td>\n      <td>...</td>\n      <td>...</td>\n      <td>...</td>\n      <td>...</td>\n      <td>...</td>\n      <td>...</td>\n      <td>...</td>\n      <td>...</td>\n    </tr>\n    <tr>\n      <th>2844042</th>\n      <td>499999</td>\n      <td>1958-05-01</td>\n      <td>Sachin</td>\n      <td>Tsukuda</td>\n      <td>M</td>\n      <td>1997-11-30</td>\n      <td>499999</td>\n      <td>63707</td>\n      <td>1997-11-30</td>\n      <td>1998-11-30</td>\n      <td>0 days</td>\n    </tr>\n    <tr>\n      <th>2844043</th>\n      <td>499999</td>\n      <td>1958-05-01</td>\n      <td>Sachin</td>\n      <td>Tsukuda</td>\n      <td>M</td>\n      <td>1997-11-30</td>\n      <td>499999</td>\n      <td>67043</td>\n      <td>1998-11-30</td>\n      <td>1999-11-30</td>\n      <td>0 days</td>\n    </tr>\n    <tr>\n      <th>2844044</th>\n      <td>499999</td>\n      <td>1958-05-01</td>\n      <td>Sachin</td>\n      <td>Tsukuda</td>\n      <td>M</td>\n      <td>1997-11-30</td>\n      <td>499999</td>\n      <td>70745</td>\n      <td>1999-11-30</td>\n      <td>2000-11-29</td>\n      <td>0 days</td>\n    </tr>\n    <tr>\n      <th>2844045</th>\n      <td>499999</td>\n      <td>1958-05-01</td>\n      <td>Sachin</td>\n      <td>Tsukuda</td>\n      <td>M</td>\n      <td>1997-11-30</td>\n      <td>499999</td>\n      <td>74327</td>\n      <td>2000-11-29</td>\n      <td>2001-11-29</td>\n      <td>0 days</td>\n    </tr>\n    <tr>\n      <th>2844046</th>\n      <td>499999</td>\n      <td>1958-05-01</td>\n      <td>Sachin</td>\n      <td>Tsukuda</td>\n      <td>M</td>\n      <td>1997-11-30</td>\n      <td>499999</td>\n      <td>77303</td>\n      <td>2001-11-29</td>\n      <td>9999-01-01</td>\n      <td>0 days</td>\n    </tr>\n  </tbody>\n</table>\n<p>2844047 rows × 11 columns</p>\n</div>"
     },
     "metadata": {},
     "execution_count": 110
    }
   ],
   "source": [
    "salary_title_df"
   ]
  },
  {
   "cell_type": "code",
   "execution_count": 170,
   "metadata": {},
   "outputs": [
    {
     "output_type": "execute_result",
     "data": {
      "text/plain": [
       "<function date.today>"
      ]
     },
     "metadata": {},
     "execution_count": 170
    }
   ],
   "source": []
  },
  {
   "cell_type": "code",
   "execution_count": null,
   "metadata": {},
   "outputs": [],
   "source": [
    "salaries_df['to_date']= salaries_df['to_date'].replace(to_replace = salaries_df[\"to_date\"].max(), value =date.today())"
   ]
  },
  {
   "cell_type": "code",
   "execution_count": 103,
   "metadata": {},
   "outputs": [
    {
     "output_type": "execute_result",
     "data": {
      "text/plain": [
       "                       Codeup Student  Not Codeup Student\n",
       "Uses a Macbook                     49                  20\n",
       "Doesn't Use a Macbook               1                  30"
      ],
      "text/html": "<div>\n<style scoped>\n    .dataframe tbody tr th:only-of-type {\n        vertical-align: middle;\n    }\n\n    .dataframe tbody tr th {\n        vertical-align: top;\n    }\n\n    .dataframe thead th {\n        text-align: right;\n    }\n</style>\n<table border=\"1\" class=\"dataframe\">\n  <thead>\n    <tr style=\"text-align: right;\">\n      <th></th>\n      <th>Codeup Student</th>\n      <th>Not Codeup Student</th>\n    </tr>\n  </thead>\n  <tbody>\n    <tr>\n      <th>Uses a Macbook</th>\n      <td>49</td>\n      <td>20</td>\n    </tr>\n    <tr>\n      <th>Doesn't Use a Macbook</th>\n      <td>1</td>\n      <td>30</td>\n    </tr>\n  </tbody>\n</table>\n</div>"
     },
     "metadata": {},
     "execution_count": 103
    }
   ],
   "source": [
    "# Use the following contingency table to help answer the question of whether using a macbook and being a codeup student are independent of each other.\n",
    "\n",
    "# Null_Hypothesis = Being a Codeup Student is independent of Macbook Use\n",
    "# Alt_Hypothesis = Being a Codeup Student is not independent of Macbook use\n",
    "\n",
    "index = ['Uses a Macbook', 'Doesn\\'t Use a Macbook']\n",
    "columns = ['Codeup Student', 'Not Codeup Student']\n",
    "\n",
    "observed_mac = pd.DataFrame([[49, 20], [1, 30]], index=index, columns=columns)\n",
    "observed_mac"
   ]
  },
  {
   "cell_type": "code",
   "execution_count": 104,
   "metadata": {},
   "outputs": [
    {
     "output_type": "stream",
     "name": "stdout",
     "text": [
      "Observed\n\n[[40 20]\n [ 1 30]]\n---\nExpected\n\n[[34.5 34.5]\n [15.5 15.5]]\n---\n\nchi^2 = 36.6526\np     = 0.0000\n"
     ]
    }
   ],
   "source": [
    "chi2, p, degf, expected = stats.chi2_contingency(observed_mac)\n",
    "\n",
    "print('Observed\\n')\n",
    "print(observed.values)\n",
    "print('---\\nExpected\\n')\n",
    "print(expected)\n",
    "print('---\\n')\n",
    "print(f'chi^2 = {chi2:.4f}')\n",
    "print(f'p     = {p:.4f}')\n",
    "\n",
    "# Our p is < 0.01 allowing us to reject the Null Hypothesis "
   ]
  },
  {
   "cell_type": "code",
   "execution_count": 106,
   "metadata": {},
   "outputs": [
    {
     "output_type": "stream",
     "name": "stdout",
     "text": [
      "<class 'pandas.core.frame.DataFrame'>\nInt64Index: 234 entries, 1 to 234\nData columns (total 11 columns):\n #   Column        Non-Null Count  Dtype  \n---  ------        --------------  -----  \n 0   manufacturer  234 non-null    object \n 1   model         234 non-null    object \n 2   displ         234 non-null    float64\n 3   year          234 non-null    int64  \n 4   cyl           234 non-null    int64  \n 5   trans         234 non-null    object \n 6   drv           234 non-null    object \n 7   cty           234 non-null    int64  \n 8   hwy           234 non-null    int64  \n 9   fl            234 non-null    object \n 10  class         234 non-null    object \ndtypes: float64(1), int64(4), object(6)\nmemory usage: 21.9+ KB\n"
     ]
    }
   ],
   "source": [
    "# # Choose another 2 categorical variables from the mpg dataset and perform a \n",
    "#  contingency table test with them. Be sure to state your null and alternative hypotheses.\n",
    "\n",
    "mpg = data('mpg')\n",
    "mpg.info()"
   ]
  },
  {
   "cell_type": "code",
   "execution_count": 113,
   "metadata": {},
   "outputs": [
    {
     "output_type": "execute_result",
     "data": {
      "text/plain": [
       "cty         9   11  12  13  14  15  16  17  18  19  ...  21  22  23  24  25  \\\n",
       "class                                               ...                       \n",
       "2seater      0   0   0   0   0   3   2   0   0   0  ...   0   0   0   0   0   \n",
       "compact      0   0   0   0   0   2   3   4   7   5  ...  12   3   0   2   0   \n",
       "midsize      0   0   0   0   0   1   4   4  13   8  ...   8   1   2   0   0   \n",
       "minivan      0   1   0   0   0   2   4   3   1   0  ...   0   0   0   0   0   \n",
       "pickup       3   6   2   8   6   5   2   1   0   0  ...   0   0   0   0   0   \n",
       "subcompact   0   0   0   0   1   4   2   3   2   6  ...   3   0   1   3   2   \n",
       "suv          2  13   6  13  12   7   2   1   3   1  ...   0   0   0   0   0   \n",
       "\n",
       "cty         26  28  29  33  35  \n",
       "class                           \n",
       "2seater      0   0   0   0   0  \n",
       "compact      2   1   0   1   0  \n",
       "midsize      0   0   0   0   0  \n",
       "minivan      0   0   0   0   0  \n",
       "pickup       0   0   0   0   0  \n",
       "subcompact   1   1   1   0   1  \n",
       "suv          0   0   0   0   0  \n",
       "\n",
       "[7 rows x 21 columns]"
      ],
      "text/html": "<div>\n<style scoped>\n    .dataframe tbody tr th:only-of-type {\n        vertical-align: middle;\n    }\n\n    .dataframe tbody tr th {\n        vertical-align: top;\n    }\n\n    .dataframe thead th {\n        text-align: right;\n    }\n</style>\n<table border=\"1\" class=\"dataframe\">\n  <thead>\n    <tr style=\"text-align: right;\">\n      <th>cty</th>\n      <th>9</th>\n      <th>11</th>\n      <th>12</th>\n      <th>13</th>\n      <th>14</th>\n      <th>15</th>\n      <th>16</th>\n      <th>17</th>\n      <th>18</th>\n      <th>19</th>\n      <th>...</th>\n      <th>21</th>\n      <th>22</th>\n      <th>23</th>\n      <th>24</th>\n      <th>25</th>\n      <th>26</th>\n      <th>28</th>\n      <th>29</th>\n      <th>33</th>\n      <th>35</th>\n    </tr>\n    <tr>\n      <th>class</th>\n      <th></th>\n      <th></th>\n      <th></th>\n      <th></th>\n      <th></th>\n      <th></th>\n      <th></th>\n      <th></th>\n      <th></th>\n      <th></th>\n      <th></th>\n      <th></th>\n      <th></th>\n      <th></th>\n      <th></th>\n      <th></th>\n      <th></th>\n      <th></th>\n      <th></th>\n      <th></th>\n      <th></th>\n    </tr>\n  </thead>\n  <tbody>\n    <tr>\n      <th>2seater</th>\n      <td>0</td>\n      <td>0</td>\n      <td>0</td>\n      <td>0</td>\n      <td>0</td>\n      <td>3</td>\n      <td>2</td>\n      <td>0</td>\n      <td>0</td>\n      <td>0</td>\n      <td>...</td>\n      <td>0</td>\n      <td>0</td>\n      <td>0</td>\n      <td>0</td>\n      <td>0</td>\n      <td>0</td>\n      <td>0</td>\n      <td>0</td>\n      <td>0</td>\n      <td>0</td>\n    </tr>\n    <tr>\n      <th>compact</th>\n      <td>0</td>\n      <td>0</td>\n      <td>0</td>\n      <td>0</td>\n      <td>0</td>\n      <td>2</td>\n      <td>3</td>\n      <td>4</td>\n      <td>7</td>\n      <td>5</td>\n      <td>...</td>\n      <td>12</td>\n      <td>3</td>\n      <td>0</td>\n      <td>2</td>\n      <td>0</td>\n      <td>2</td>\n      <td>1</td>\n      <td>0</td>\n      <td>1</td>\n      <td>0</td>\n    </tr>\n    <tr>\n      <th>midsize</th>\n      <td>0</td>\n      <td>0</td>\n      <td>0</td>\n      <td>0</td>\n      <td>0</td>\n      <td>1</td>\n      <td>4</td>\n      <td>4</td>\n      <td>13</td>\n      <td>8</td>\n      <td>...</td>\n      <td>8</td>\n      <td>1</td>\n      <td>2</td>\n      <td>0</td>\n      <td>0</td>\n      <td>0</td>\n      <td>0</td>\n      <td>0</td>\n      <td>0</td>\n      <td>0</td>\n    </tr>\n    <tr>\n      <th>minivan</th>\n      <td>0</td>\n      <td>1</td>\n      <td>0</td>\n      <td>0</td>\n      <td>0</td>\n      <td>2</td>\n      <td>4</td>\n      <td>3</td>\n      <td>1</td>\n      <td>0</td>\n      <td>...</td>\n      <td>0</td>\n      <td>0</td>\n      <td>0</td>\n      <td>0</td>\n      <td>0</td>\n      <td>0</td>\n      <td>0</td>\n      <td>0</td>\n      <td>0</td>\n      <td>0</td>\n    </tr>\n    <tr>\n      <th>pickup</th>\n      <td>3</td>\n      <td>6</td>\n      <td>2</td>\n      <td>8</td>\n      <td>6</td>\n      <td>5</td>\n      <td>2</td>\n      <td>1</td>\n      <td>0</td>\n      <td>0</td>\n      <td>...</td>\n      <td>0</td>\n      <td>0</td>\n      <td>0</td>\n      <td>0</td>\n      <td>0</td>\n      <td>0</td>\n      <td>0</td>\n      <td>0</td>\n      <td>0</td>\n      <td>0</td>\n    </tr>\n    <tr>\n      <th>subcompact</th>\n      <td>0</td>\n      <td>0</td>\n      <td>0</td>\n      <td>0</td>\n      <td>1</td>\n      <td>4</td>\n      <td>2</td>\n      <td>3</td>\n      <td>2</td>\n      <td>6</td>\n      <td>...</td>\n      <td>3</td>\n      <td>0</td>\n      <td>1</td>\n      <td>3</td>\n      <td>2</td>\n      <td>1</td>\n      <td>1</td>\n      <td>1</td>\n      <td>0</td>\n      <td>1</td>\n    </tr>\n    <tr>\n      <th>suv</th>\n      <td>2</td>\n      <td>13</td>\n      <td>6</td>\n      <td>13</td>\n      <td>12</td>\n      <td>7</td>\n      <td>2</td>\n      <td>1</td>\n      <td>3</td>\n      <td>1</td>\n      <td>...</td>\n      <td>0</td>\n      <td>0</td>\n      <td>0</td>\n      <td>0</td>\n      <td>0</td>\n      <td>0</td>\n      <td>0</td>\n      <td>0</td>\n      <td>0</td>\n      <td>0</td>\n    </tr>\n  </tbody>\n</table>\n<p>7 rows × 21 columns</p>\n</div>"
     },
     "metadata": {},
     "execution_count": 113
    }
   ],
   "source": [
    "observed_mpg = observed = pd.crosstab(mpg['class'], mpg.cty)\n",
    "observed_mpg"
   ]
  },
  {
   "cell_type": "code",
   "execution_count": 115,
   "metadata": {},
   "outputs": [
    {
     "output_type": "stream",
     "name": "stdout",
     "text": [
      "Observed\n\n[[ 0  0  0  0  0  3  2  0  0  0  0  0  0  0  0  0  0  0  0  0  0]\n [ 0  0  0  0  0  2  3  4  7  5  5 12  3  0  2  0  2  1  0  1  0]\n [ 0  0  0  0  0  1  4  4 13  8  0  8  1  2  0  0  0  0  0  0  0]\n [ 0  1  0  0  0  2  4  3  1  0  0  0  0  0  0  0  0  0  0  0  0]\n [ 3  6  2  8  6  5  2  1  0  0  0  0  0  0  0  0  0  0  0  0  0]\n [ 0  0  0  0  1  4  2  3  2  6  4  3  0  1  3  2  1  1  1  0  1]\n [ 2 13  6 13 12  7  2  1  3  1  2  0  0  0  0  0  0  0  0  0  0]]\n---\nExpected\n\n[[0.10683761 0.42735043 0.17094017 0.44871795 0.40598291 0.51282051\n  0.40598291 0.34188034 0.55555556 0.42735043 0.23504274 0.49145299\n  0.08547009 0.06410256 0.10683761 0.04273504 0.06410256 0.04273504\n  0.02136752 0.02136752 0.02136752]\n [1.0042735  4.01709402 1.60683761 4.21794872 3.81623932 4.82051282\n  3.81623932 3.21367521 5.22222222 4.01709402 2.20940171 4.61965812\n  0.8034188  0.6025641  1.0042735  0.4017094  0.6025641  0.4017094\n  0.2008547  0.2008547  0.2008547 ]\n [0.87606838 3.5042735  1.4017094  3.67948718 3.32905983 4.20512821\n  3.32905983 2.8034188  4.55555556 3.5042735  1.92735043 4.02991453\n  0.7008547  0.52564103 0.87606838 0.35042735 0.52564103 0.35042735\n  0.17521368 0.17521368 0.17521368]\n [0.23504274 0.94017094 0.37606838 0.98717949 0.89316239 1.12820513\n  0.89316239 0.75213675 1.22222222 0.94017094 0.51709402 1.08119658\n  0.18803419 0.14102564 0.23504274 0.09401709 0.14102564 0.09401709\n  0.04700855 0.04700855 0.04700855]\n [0.70512821 2.82051282 1.12820513 2.96153846 2.67948718 3.38461538\n  2.67948718 2.25641026 3.66666667 2.82051282 1.55128205 3.24358974\n  0.56410256 0.42307692 0.70512821 0.28205128 0.42307692 0.28205128\n  0.14102564 0.14102564 0.14102564]\n [0.74786325 2.99145299 1.1965812  3.14102564 2.84188034 3.58974359\n  2.84188034 2.39316239 3.88888889 2.99145299 1.64529915 3.44017094\n  0.5982906  0.44871795 0.74786325 0.2991453  0.44871795 0.2991453\n  0.14957265 0.14957265 0.14957265]\n [1.32478632 5.2991453  2.11965812 5.56410256 5.03418803 6.35897436\n  5.03418803 4.23931624 6.88888889 5.2991453  2.91452991 6.09401709\n  1.05982906 0.79487179 1.32478632 0.52991453 0.79487179 0.52991453\n  0.26495726 0.26495726 0.26495726]]\n---\n\nchi^2 = 293.1664\np     = 0.0000\n"
     ]
    }
   ],
   "source": [
    "# Null_hypothesis = City MPG is independent of Auto Class\n",
    "# Alternative_hypothesis = City MPG correlated with Auto Class\n",
    "# p < 0.01 leading us to reject the Null_hypothesis and establish some dependence between City mpg and Auto Class\n",
    "\n",
    "chi2, p, degf, expected = stats.chi2_contingency(observed_mpg)\n",
    "\n",
    "print('Observed\\n')\n",
    "print(observed.values)\n",
    "print('---\\nExpected\\n')\n",
    "print(expected)\n",
    "print('---\\n')\n",
    "print(f'chi^2 = {chi2:.4f}')\n",
    "print(f'p     = {p:.4f}')"
   ]
  },
  {
   "cell_type": "code",
   "execution_count": null,
   "metadata": {},
   "outputs": [],
   "source": [
    "# 3) Use the data from the employees database to answer these questions:\n",
    "\n",
    "# Is an employee's gender independent of whether an employee works in sales or marketing? (only look at current employees)\n",
    " \n",
    "# Null Hypothesis = Gender is independent of whether an employee works in sales or marketing\n",
    "#Alternative Hypothesis = Gender is not indepenedent of whether an employee works in sales or marketing\n",
    "\n",
    "# Our p value > alpha so we can not reject the null hypothesis and there is some relationship b/w gender and Sales/Marketing\n"
   ]
  },
  {
   "cell_type": "code",
   "execution_count": 116,
   "metadata": {},
   "outputs": [],
   "source": [
    "dept = pd.read_sql('select * from departments', url)"
   ]
  },
  {
   "cell_type": "code",
   "execution_count": 118,
   "metadata": {},
   "outputs": [],
   "source": [
    "dept_emp = pd.read_sql('select * from dept_emp', url)"
   ]
  },
  {
   "cell_type": "code",
   "execution_count": 119,
   "metadata": {},
   "outputs": [],
   "source": [
    "emp = pd.read_sql('select * from employees', url)"
   ]
  },
  {
   "cell_type": "code",
   "execution_count": 120,
   "metadata": {},
   "outputs": [],
   "source": [
    "dept_emp_merge = dept.merge(dept_emp, on='dept_no', how='inner')"
   ]
  },
  {
   "cell_type": "code",
   "execution_count": 162,
   "metadata": {},
   "outputs": [
    {
     "output_type": "execute_result",
     "data": {
      "text/plain": [
       "       dept_no         dept_name  emp_no   from_date     to_date  birth_date  \\\n",
       "0         d009  Customer Service   10011  1990-01-22  1996-11-09  1953-11-07   \n",
       "1         d009  Customer Service   10038  1989-09-20  9999-01-01  1960-07-20   \n",
       "2         d009  Customer Service   10049  1992-05-04  9999-01-01  1961-04-24   \n",
       "3         d009  Customer Service   10060  1992-11-11  9999-01-01  1961-10-15   \n",
       "4         d007             Sales   10060  1989-05-28  1992-11-11  1961-10-15   \n",
       "...        ...               ...     ...         ...         ...         ...   \n",
       "331598    d007             Sales  499976  1988-12-26  9999-01-01  1963-08-20   \n",
       "331599    d007             Sales  499980  1991-02-11  9999-01-01  1959-06-28   \n",
       "331600    d007             Sales  499986  1985-08-11  9999-01-01  1952-07-22   \n",
       "331601    d007             Sales  499987  1999-12-21  9999-01-01  1961-09-05   \n",
       "331602    d007             Sales  499988  1988-07-25  2001-10-09  1962-09-28   \n",
       "\n",
       "       first_name    last_name gender   hire_date  \n",
       "0            Mary        Sluis      F  1990-01-22  \n",
       "1            Huan        Lortz      M  1989-09-20  \n",
       "2           Basil       Tramer      F  1992-05-04  \n",
       "3        Breannda  Billingsley      M  1987-11-02  \n",
       "4        Breannda  Billingsley      M  1987-11-02  \n",
       "...           ...          ...    ...         ...  \n",
       "331598   Guozhong       Felder      M  1988-12-26  \n",
       "331599       Gino        Usery      M  1991-02-11  \n",
       "331600     Nathan        Ranta      F  1985-08-11  \n",
       "331601      Rimli       Dusink      F  1998-09-20  \n",
       "331602   Bangqing      Kleiser      F  1986-06-06  \n",
       "\n",
       "[331603 rows x 10 columns]"
      ],
      "text/html": "<div>\n<style scoped>\n    .dataframe tbody tr th:only-of-type {\n        vertical-align: middle;\n    }\n\n    .dataframe tbody tr th {\n        vertical-align: top;\n    }\n\n    .dataframe thead th {\n        text-align: right;\n    }\n</style>\n<table border=\"1\" class=\"dataframe\">\n  <thead>\n    <tr style=\"text-align: right;\">\n      <th></th>\n      <th>dept_no</th>\n      <th>dept_name</th>\n      <th>emp_no</th>\n      <th>from_date</th>\n      <th>to_date</th>\n      <th>birth_date</th>\n      <th>first_name</th>\n      <th>last_name</th>\n      <th>gender</th>\n      <th>hire_date</th>\n    </tr>\n  </thead>\n  <tbody>\n    <tr>\n      <th>0</th>\n      <td>d009</td>\n      <td>Customer Service</td>\n      <td>10011</td>\n      <td>1990-01-22</td>\n      <td>1996-11-09</td>\n      <td>1953-11-07</td>\n      <td>Mary</td>\n      <td>Sluis</td>\n      <td>F</td>\n      <td>1990-01-22</td>\n    </tr>\n    <tr>\n      <th>1</th>\n      <td>d009</td>\n      <td>Customer Service</td>\n      <td>10038</td>\n      <td>1989-09-20</td>\n      <td>9999-01-01</td>\n      <td>1960-07-20</td>\n      <td>Huan</td>\n      <td>Lortz</td>\n      <td>M</td>\n      <td>1989-09-20</td>\n    </tr>\n    <tr>\n      <th>2</th>\n      <td>d009</td>\n      <td>Customer Service</td>\n      <td>10049</td>\n      <td>1992-05-04</td>\n      <td>9999-01-01</td>\n      <td>1961-04-24</td>\n      <td>Basil</td>\n      <td>Tramer</td>\n      <td>F</td>\n      <td>1992-05-04</td>\n    </tr>\n    <tr>\n      <th>3</th>\n      <td>d009</td>\n      <td>Customer Service</td>\n      <td>10060</td>\n      <td>1992-11-11</td>\n      <td>9999-01-01</td>\n      <td>1961-10-15</td>\n      <td>Breannda</td>\n      <td>Billingsley</td>\n      <td>M</td>\n      <td>1987-11-02</td>\n    </tr>\n    <tr>\n      <th>4</th>\n      <td>d007</td>\n      <td>Sales</td>\n      <td>10060</td>\n      <td>1989-05-28</td>\n      <td>1992-11-11</td>\n      <td>1961-10-15</td>\n      <td>Breannda</td>\n      <td>Billingsley</td>\n      <td>M</td>\n      <td>1987-11-02</td>\n    </tr>\n    <tr>\n      <th>...</th>\n      <td>...</td>\n      <td>...</td>\n      <td>...</td>\n      <td>...</td>\n      <td>...</td>\n      <td>...</td>\n      <td>...</td>\n      <td>...</td>\n      <td>...</td>\n      <td>...</td>\n    </tr>\n    <tr>\n      <th>331598</th>\n      <td>d007</td>\n      <td>Sales</td>\n      <td>499976</td>\n      <td>1988-12-26</td>\n      <td>9999-01-01</td>\n      <td>1963-08-20</td>\n      <td>Guozhong</td>\n      <td>Felder</td>\n      <td>M</td>\n      <td>1988-12-26</td>\n    </tr>\n    <tr>\n      <th>331599</th>\n      <td>d007</td>\n      <td>Sales</td>\n      <td>499980</td>\n      <td>1991-02-11</td>\n      <td>9999-01-01</td>\n      <td>1959-06-28</td>\n      <td>Gino</td>\n      <td>Usery</td>\n      <td>M</td>\n      <td>1991-02-11</td>\n    </tr>\n    <tr>\n      <th>331600</th>\n      <td>d007</td>\n      <td>Sales</td>\n      <td>499986</td>\n      <td>1985-08-11</td>\n      <td>9999-01-01</td>\n      <td>1952-07-22</td>\n      <td>Nathan</td>\n      <td>Ranta</td>\n      <td>F</td>\n      <td>1985-08-11</td>\n    </tr>\n    <tr>\n      <th>331601</th>\n      <td>d007</td>\n      <td>Sales</td>\n      <td>499987</td>\n      <td>1999-12-21</td>\n      <td>9999-01-01</td>\n      <td>1961-09-05</td>\n      <td>Rimli</td>\n      <td>Dusink</td>\n      <td>F</td>\n      <td>1998-09-20</td>\n    </tr>\n    <tr>\n      <th>331602</th>\n      <td>d007</td>\n      <td>Sales</td>\n      <td>499988</td>\n      <td>1988-07-25</td>\n      <td>2001-10-09</td>\n      <td>1962-09-28</td>\n      <td>Bangqing</td>\n      <td>Kleiser</td>\n      <td>F</td>\n      <td>1986-06-06</td>\n    </tr>\n  </tbody>\n</table>\n<p>331603 rows × 10 columns</p>\n</div>"
     },
     "metadata": {},
     "execution_count": 162
    }
   ],
   "source": [
    "total_merge = dept_emp_merge.merge(emp, on='emp_no', how='inner')\n",
    "total_merge"
   ]
  },
  {
   "cell_type": "code",
   "execution_count": 142,
   "metadata": {},
   "outputs": [],
   "source": [
    "total_merge_cur = total_merge[total_merge.astype(str).to_date == \"9999-01-01\"]\n",
    "total_merge_cur.head()"
   ]
  },
  {
   "cell_type": "code",
   "execution_count": 173,
   "metadata": {},
   "outputs": [
    {
     "output_type": "execute_result",
     "data": {
      "text/plain": [
       "       dept_no dept_name  emp_no   from_date     to_date  birth_date  \\\n",
       "127558    d007     Sales   10050  1992-11-05  9999-01-01  1958-05-21   \n",
       "127576    d007     Sales   10209  1999-08-07  9999-01-01  1956-12-12   \n",
       "127603    d007     Sales   10655  2000-11-22  9999-01-01  1959-02-02   \n",
       "127622    d007     Sales   10855  1997-03-02  9999-01-01  1957-08-07   \n",
       "127628    d007     Sales   10906  2001-04-25  9999-01-01  1952-02-06   \n",
       "...        ...       ...     ...         ...         ...         ...   \n",
       "331596    d007     Sales  499966  1985-06-13  9999-01-01  1955-12-04   \n",
       "331598    d007     Sales  499976  1988-12-26  9999-01-01  1963-08-20   \n",
       "331599    d007     Sales  499980  1991-02-11  9999-01-01  1959-06-28   \n",
       "331600    d007     Sales  499986  1985-08-11  9999-01-01  1952-07-22   \n",
       "331601    d007     Sales  499987  1999-12-21  9999-01-01  1961-09-05   \n",
       "\n",
       "       first_name last_name gender   hire_date  \n",
       "127558    Yinghua    Dredge      M  1990-12-25  \n",
       "127576      Yolla    Ellozy      F  1991-11-23  \n",
       "127603      Remko    Dalton      F  1985-07-14  \n",
       "127622    Kwangho  Reinhart      M  1991-08-05  \n",
       "127628   Munehiro   Carrere      F  1994-01-20  \n",
       "...           ...       ...    ...         ...  \n",
       "331596    Mihalis  Crabtree      F  1985-06-13  \n",
       "331598   Guozhong    Felder      M  1988-12-26  \n",
       "331599       Gino     Usery      M  1991-02-11  \n",
       "331600     Nathan     Ranta      F  1985-08-11  \n",
       "331601      Rimli    Dusink      F  1998-09-20  \n",
       "\n",
       "[52543 rows x 10 columns]"
      ],
      "text/html": "<div>\n<style scoped>\n    .dataframe tbody tr th:only-of-type {\n        vertical-align: middle;\n    }\n\n    .dataframe tbody tr th {\n        vertical-align: top;\n    }\n\n    .dataframe thead th {\n        text-align: right;\n    }\n</style>\n<table border=\"1\" class=\"dataframe\">\n  <thead>\n    <tr style=\"text-align: right;\">\n      <th></th>\n      <th>dept_no</th>\n      <th>dept_name</th>\n      <th>emp_no</th>\n      <th>from_date</th>\n      <th>to_date</th>\n      <th>birth_date</th>\n      <th>first_name</th>\n      <th>last_name</th>\n      <th>gender</th>\n      <th>hire_date</th>\n    </tr>\n  </thead>\n  <tbody>\n    <tr>\n      <th>127558</th>\n      <td>d007</td>\n      <td>Sales</td>\n      <td>10050</td>\n      <td>1992-11-05</td>\n      <td>9999-01-01</td>\n      <td>1958-05-21</td>\n      <td>Yinghua</td>\n      <td>Dredge</td>\n      <td>M</td>\n      <td>1990-12-25</td>\n    </tr>\n    <tr>\n      <th>127576</th>\n      <td>d007</td>\n      <td>Sales</td>\n      <td>10209</td>\n      <td>1999-08-07</td>\n      <td>9999-01-01</td>\n      <td>1956-12-12</td>\n      <td>Yolla</td>\n      <td>Ellozy</td>\n      <td>F</td>\n      <td>1991-11-23</td>\n    </tr>\n    <tr>\n      <th>127603</th>\n      <td>d007</td>\n      <td>Sales</td>\n      <td>10655</td>\n      <td>2000-11-22</td>\n      <td>9999-01-01</td>\n      <td>1959-02-02</td>\n      <td>Remko</td>\n      <td>Dalton</td>\n      <td>F</td>\n      <td>1985-07-14</td>\n    </tr>\n    <tr>\n      <th>127622</th>\n      <td>d007</td>\n      <td>Sales</td>\n      <td>10855</td>\n      <td>1997-03-02</td>\n      <td>9999-01-01</td>\n      <td>1957-08-07</td>\n      <td>Kwangho</td>\n      <td>Reinhart</td>\n      <td>M</td>\n      <td>1991-08-05</td>\n    </tr>\n    <tr>\n      <th>127628</th>\n      <td>d007</td>\n      <td>Sales</td>\n      <td>10906</td>\n      <td>2001-04-25</td>\n      <td>9999-01-01</td>\n      <td>1952-02-06</td>\n      <td>Munehiro</td>\n      <td>Carrere</td>\n      <td>F</td>\n      <td>1994-01-20</td>\n    </tr>\n    <tr>\n      <th>...</th>\n      <td>...</td>\n      <td>...</td>\n      <td>...</td>\n      <td>...</td>\n      <td>...</td>\n      <td>...</td>\n      <td>...</td>\n      <td>...</td>\n      <td>...</td>\n      <td>...</td>\n    </tr>\n    <tr>\n      <th>331596</th>\n      <td>d007</td>\n      <td>Sales</td>\n      <td>499966</td>\n      <td>1985-06-13</td>\n      <td>9999-01-01</td>\n      <td>1955-12-04</td>\n      <td>Mihalis</td>\n      <td>Crabtree</td>\n      <td>F</td>\n      <td>1985-06-13</td>\n    </tr>\n    <tr>\n      <th>331598</th>\n      <td>d007</td>\n      <td>Sales</td>\n      <td>499976</td>\n      <td>1988-12-26</td>\n      <td>9999-01-01</td>\n      <td>1963-08-20</td>\n      <td>Guozhong</td>\n      <td>Felder</td>\n      <td>M</td>\n      <td>1988-12-26</td>\n    </tr>\n    <tr>\n      <th>331599</th>\n      <td>d007</td>\n      <td>Sales</td>\n      <td>499980</td>\n      <td>1991-02-11</td>\n      <td>9999-01-01</td>\n      <td>1959-06-28</td>\n      <td>Gino</td>\n      <td>Usery</td>\n      <td>M</td>\n      <td>1991-02-11</td>\n    </tr>\n    <tr>\n      <th>331600</th>\n      <td>d007</td>\n      <td>Sales</td>\n      <td>499986</td>\n      <td>1985-08-11</td>\n      <td>9999-01-01</td>\n      <td>1952-07-22</td>\n      <td>Nathan</td>\n      <td>Ranta</td>\n      <td>F</td>\n      <td>1985-08-11</td>\n    </tr>\n    <tr>\n      <th>331601</th>\n      <td>d007</td>\n      <td>Sales</td>\n      <td>499987</td>\n      <td>1999-12-21</td>\n      <td>9999-01-01</td>\n      <td>1961-09-05</td>\n      <td>Rimli</td>\n      <td>Dusink</td>\n      <td>F</td>\n      <td>1998-09-20</td>\n    </tr>\n  </tbody>\n</table>\n<p>52543 rows × 10 columns</p>\n</div>"
     },
     "metadata": {},
     "execution_count": 173
    }
   ],
   "source": [
    "total_sort = total_merge_cur[(total_merge_cur.dept_name == 'Marketing')|(total_merge_cur.dept_name == 'Sales')]"
   ]
  },
  {
   "cell_type": "code",
   "execution_count": 175,
   "metadata": {},
   "outputs": [
    {
     "output_type": "execute_result",
     "data": {
      "text/plain": [
       "dept_name  Marketing  Sales\n",
       "gender                     \n",
       "F               5864  14999\n",
       "M               8978  22702"
      ],
      "text/html": "<div>\n<style scoped>\n    .dataframe tbody tr th:only-of-type {\n        vertical-align: middle;\n    }\n\n    .dataframe tbody tr th {\n        vertical-align: top;\n    }\n\n    .dataframe thead th {\n        text-align: right;\n    }\n</style>\n<table border=\"1\" class=\"dataframe\">\n  <thead>\n    <tr style=\"text-align: right;\">\n      <th>dept_name</th>\n      <th>Marketing</th>\n      <th>Sales</th>\n    </tr>\n    <tr>\n      <th>gender</th>\n      <th></th>\n      <th></th>\n    </tr>\n  </thead>\n  <tbody>\n    <tr>\n      <th>F</th>\n      <td>5864</td>\n      <td>14999</td>\n    </tr>\n    <tr>\n      <th>M</th>\n      <td>8978</td>\n      <td>22702</td>\n    </tr>\n  </tbody>\n</table>\n</div>"
     },
     "metadata": {},
     "execution_count": 175
    }
   ],
   "source": [
    "observed_gen = pd.crosstab(total_sort.gender, total_sort.dept_name)\n",
    "observed_gen"
   ]
  },
  {
   "cell_type": "code",
   "execution_count": 176,
   "metadata": {},
   "outputs": [
    {
     "output_type": "stream",
     "name": "stdout",
     "text": [
      "Observed\n\n[[ 0  0  0  0  0  3  2  0  0  0  0  0  0  0  0  0  0  0  0  0  0]\n [ 0  0  0  0  0  2  3  4  7  5  5 12  3  0  2  0  2  1  0  1  0]\n [ 0  0  0  0  0  1  4  4 13  8  0  8  1  2  0  0  0  0  0  0  0]\n [ 0  1  0  0  0  2  4  3  1  0  0  0  0  0  0  0  0  0  0  0  0]\n [ 3  6  2  8  6  5  2  1  0  0  0  0  0  0  0  0  0  0  0  0  0]\n [ 0  0  0  0  1  4  2  3  2  6  4  3  0  1  3  2  1  1  1  0  1]\n [ 2 13  6 13 12  7  2  1  3  1  2  0  0  0  0  0  0  0  0  0  0]]\n---\nExpected\n\n[[ 5893.2426013 14969.7573987]\n [ 8948.7573987 22731.2426013]]\n---\n\nchi^2 = 0.3240\np     = 0.5692\n"
     ]
    }
   ],
   "source": [
    "chi2, p, degf, expected = stats.chi2_contingency(observed_gen)\n",
    "\n",
    "print('Observed\\n')\n",
    "print(observed.values)\n",
    "print('---\\nExpected\\n')\n",
    "print(expected)\n",
    "print('---\\n')\n",
    "print(f'chi^2 = {chi2:.4f}')\n",
    "print(f'p     = {p:.4f}')"
   ]
  },
  {
   "cell_type": "code",
   "execution_count": 191,
   "metadata": {},
   "outputs": [],
   "source": [
    "# Is an employee's gender independent of whether or not they are or have been a manager?\n",
    "# Null_hypothesis = Gender is independent of Manager role\n",
    "# Alt_hypothesis = Gender and Management role have some relationship\n",
    "# With a p value (0.44) > than our alpha (.05) we can not reject the null hypothesis"
   ]
  },
  {
   "cell_type": "code",
   "execution_count": 187,
   "metadata": {},
   "outputs": [
    {
     "output_type": "execute_result",
     "data": {
      "text/plain": [
       "   dept_no gender\n",
       "0     d001      M\n",
       "1     d001      M\n",
       "2     d002      M\n",
       "3     d002      F\n",
       "4     d003      F\n",
       "5     d003      F\n",
       "6     d004      F\n",
       "7     d004      F\n",
       "8     d004      M\n",
       "9     d004      M\n",
       "10    d005      M\n",
       "11    d005      F\n",
       "12    d006      F\n",
       "13    d006      F\n",
       "14    d006      F\n",
       "15    d006      M\n",
       "16    d007      M\n",
       "17    d007      M\n",
       "18    d008      M\n",
       "19    d008      F\n",
       "20    d009      F\n",
       "21    d009      F\n",
       "22    d009      F\n",
       "23    d009      M"
      ],
      "text/html": "<div>\n<style scoped>\n    .dataframe tbody tr th:only-of-type {\n        vertical-align: middle;\n    }\n\n    .dataframe tbody tr th {\n        vertical-align: top;\n    }\n\n    .dataframe thead th {\n        text-align: right;\n    }\n</style>\n<table border=\"1\" class=\"dataframe\">\n  <thead>\n    <tr style=\"text-align: right;\">\n      <th></th>\n      <th>dept_no</th>\n      <th>gender</th>\n    </tr>\n  </thead>\n  <tbody>\n    <tr>\n      <th>0</th>\n      <td>d001</td>\n      <td>M</td>\n    </tr>\n    <tr>\n      <th>1</th>\n      <td>d001</td>\n      <td>M</td>\n    </tr>\n    <tr>\n      <th>2</th>\n      <td>d002</td>\n      <td>M</td>\n    </tr>\n    <tr>\n      <th>3</th>\n      <td>d002</td>\n      <td>F</td>\n    </tr>\n    <tr>\n      <th>4</th>\n      <td>d003</td>\n      <td>F</td>\n    </tr>\n    <tr>\n      <th>5</th>\n      <td>d003</td>\n      <td>F</td>\n    </tr>\n    <tr>\n      <th>6</th>\n      <td>d004</td>\n      <td>F</td>\n    </tr>\n    <tr>\n      <th>7</th>\n      <td>d004</td>\n      <td>F</td>\n    </tr>\n    <tr>\n      <th>8</th>\n      <td>d004</td>\n      <td>M</td>\n    </tr>\n    <tr>\n      <th>9</th>\n      <td>d004</td>\n      <td>M</td>\n    </tr>\n    <tr>\n      <th>10</th>\n      <td>d005</td>\n      <td>M</td>\n    </tr>\n    <tr>\n      <th>11</th>\n      <td>d005</td>\n      <td>F</td>\n    </tr>\n    <tr>\n      <th>12</th>\n      <td>d006</td>\n      <td>F</td>\n    </tr>\n    <tr>\n      <th>13</th>\n      <td>d006</td>\n      <td>F</td>\n    </tr>\n    <tr>\n      <th>14</th>\n      <td>d006</td>\n      <td>F</td>\n    </tr>\n    <tr>\n      <th>15</th>\n      <td>d006</td>\n      <td>M</td>\n    </tr>\n    <tr>\n      <th>16</th>\n      <td>d007</td>\n      <td>M</td>\n    </tr>\n    <tr>\n      <th>17</th>\n      <td>d007</td>\n      <td>M</td>\n    </tr>\n    <tr>\n      <th>18</th>\n      <td>d008</td>\n      <td>M</td>\n    </tr>\n    <tr>\n      <th>19</th>\n      <td>d008</td>\n      <td>F</td>\n    </tr>\n    <tr>\n      <th>20</th>\n      <td>d009</td>\n      <td>F</td>\n    </tr>\n    <tr>\n      <th>21</th>\n      <td>d009</td>\n      <td>F</td>\n    </tr>\n    <tr>\n      <th>22</th>\n      <td>d009</td>\n      <td>F</td>\n    </tr>\n    <tr>\n      <th>23</th>\n      <td>d009</td>\n      <td>M</td>\n    </tr>\n  </tbody>\n</table>\n</div>"
     },
     "metadata": {},
     "execution_count": 187
    }
   ],
   "source": [
    "\n",
    "emp_man = pd.read_sql('select dept_no, gender from dept_manager join employees using(emp_no)', url)\n",
    "emp_man"
   ]
  },
  {
   "cell_type": "code",
   "execution_count": 188,
   "metadata": {},
   "outputs": [
    {
     "output_type": "execute_result",
     "data": {
      "text/plain": [
       "gender   F  M\n",
       "dept_no      \n",
       "d001     0  2\n",
       "d002     1  1\n",
       "d003     2  0\n",
       "d004     2  2\n",
       "d005     1  1\n",
       "d006     3  1\n",
       "d007     0  2\n",
       "d008     1  1\n",
       "d009     3  1"
      ],
      "text/html": "<div>\n<style scoped>\n    .dataframe tbody tr th:only-of-type {\n        vertical-align: middle;\n    }\n\n    .dataframe tbody tr th {\n        vertical-align: top;\n    }\n\n    .dataframe thead th {\n        text-align: right;\n    }\n</style>\n<table border=\"1\" class=\"dataframe\">\n  <thead>\n    <tr style=\"text-align: right;\">\n      <th>gender</th>\n      <th>F</th>\n      <th>M</th>\n    </tr>\n    <tr>\n      <th>dept_no</th>\n      <th></th>\n      <th></th>\n    </tr>\n  </thead>\n  <tbody>\n    <tr>\n      <th>d001</th>\n      <td>0</td>\n      <td>2</td>\n    </tr>\n    <tr>\n      <th>d002</th>\n      <td>1</td>\n      <td>1</td>\n    </tr>\n    <tr>\n      <th>d003</th>\n      <td>2</td>\n      <td>0</td>\n    </tr>\n    <tr>\n      <th>d004</th>\n      <td>2</td>\n      <td>2</td>\n    </tr>\n    <tr>\n      <th>d005</th>\n      <td>1</td>\n      <td>1</td>\n    </tr>\n    <tr>\n      <th>d006</th>\n      <td>3</td>\n      <td>1</td>\n    </tr>\n    <tr>\n      <th>d007</th>\n      <td>0</td>\n      <td>2</td>\n    </tr>\n    <tr>\n      <th>d008</th>\n      <td>1</td>\n      <td>1</td>\n    </tr>\n    <tr>\n      <th>d009</th>\n      <td>3</td>\n      <td>1</td>\n    </tr>\n  </tbody>\n</table>\n</div>"
     },
     "metadata": {},
     "execution_count": 188
    }
   ],
   "source": [
    "observed_emp_man = pd.crosstab(emp_man.dept_no, emp_man.gender)\n",
    "observed_emp_man"
   ]
  },
  {
   "cell_type": "code",
   "execution_count": 190,
   "metadata": {},
   "outputs": [
    {
     "output_type": "stream",
     "name": "stdout",
     "text": [
      "Observed\n\n[[ 0  0  0  0  0  3  2  0  0  0  0  0  0  0  0  0  0  0  0  0  0]\n [ 0  0  0  0  0  2  3  4  7  5  5 12  3  0  2  0  2  1  0  1  0]\n [ 0  0  0  0  0  1  4  4 13  8  0  8  1  2  0  0  0  0  0  0  0]\n [ 0  1  0  0  0  2  4  3  1  0  0  0  0  0  0  0  0  0  0  0  0]\n [ 3  6  2  8  6  5  2  1  0  0  0  0  0  0  0  0  0  0  0  0  0]\n [ 0  0  0  0  1  4  2  3  2  6  4  3  0  1  3  2  1  1  1  0  1]\n [ 2 13  6 13 12  7  2  1  3  1  2  0  0  0  0  0  0  0  0  0  0]]\n---\nExpected\n\n[[1.08333333 0.91666667]\n [1.08333333 0.91666667]\n [1.08333333 0.91666667]\n [2.16666667 1.83333333]\n [1.08333333 0.91666667]\n [2.16666667 1.83333333]\n [1.08333333 0.91666667]\n [1.08333333 0.91666667]\n [2.16666667 1.83333333]]\n---\n\nchi^2 = 7.8881\np     = 0.4445\n"
     ]
    }
   ],
   "source": [
    "chi2, p, degf, expected = stats.chi2_contingency(observed_emp_man)\n",
    "print('Observed\\n')\n",
    "print(observed.values)\n",
    "print('---\\nExpected\\n')\n",
    "print(expected)\n",
    "print('---\\n')\n",
    "print(f'chi^2 = {chi2:.4f}')\n",
    "print(f'p     = {p:.4f}')"
   ]
  },
  {
   "cell_type": "code",
   "execution_count": null,
   "metadata": {},
   "outputs": [],
   "source": []
  }
 ]
}