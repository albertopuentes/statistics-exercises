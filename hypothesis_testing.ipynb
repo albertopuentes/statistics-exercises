{
 "metadata": {
  "language_info": {
   "codemirror_mode": {
    "name": "ipython",
    "version": 3
   },
   "file_extension": ".py",
   "mimetype": "text/x-python",
   "name": "python",
   "nbconvert_exporter": "python",
   "pygments_lexer": "ipython3",
   "version": "3.8.5"
  },
  "orig_nbformat": 2,
  "kernelspec": {
   "name": "python385jvsc74a57bd0b64057e63add2b45b1ffc7eab9b09c8889b419c878e2fdf0d08f837f0fc857a7",
   "display_name": "Python 3.8.5 64-bit ('base': conda)"
  },
  "metadata": {
   "interpreter": {
    "hash": "b64057e63add2b45b1ffc7eab9b09c8889b419c878e2fdf0d08f837f0fc857a7"
   }
  }
 },
 "nbformat": 4,
 "nbformat_minor": 2,
 "cells": [
  {
   "source": [
    "Has the network latency gone up since we switched internet service providers?\n",
    "* null hyptohesis = Internet service has no impact on network latency\n",
    "* alternative hypothesis = Newtork latency has gone up since switching internet service providers\n",
    "* True positive = alpha > p value and we establish that internet service does impact network latency\n",
    "* True negavite = alpha < p and we establish that internet service has no impact on network latency\n",
    "* Type 1 error: we reject that internet service has no impact on network latency but the truth is there is no impact\n",
    "* Type 2 error: we don't reject that internet service has no impact on network latecny but there is significant impact\n",
    "\n",
    "$H_{0}$ \n",
    "\n"
   ],
   "cell_type": "markdown",
   "metadata": {}
  },
  {
   "source": [
    "Is the website redesign any good?\n",
    "\n",
    "* null hyptohesis = the website redisign has had no impact on sales\n",
    "* alternative hypothesis = the webstite redesign has increased sales\n",
    "* True positive = alpha > p and we establish that the website redesign has increased sales\n",
    "* True negavite = alpha < p and we establish that the website redesign has had no impact sales\n",
    "* Type 1 error: we reject that the website redesing has not increased sales but the truth is there is no impact\n",
    "* Type 2 error: we don't reject that website redesign has had no impact on sales but there has been significant impact"
   ],
   "cell_type": "markdown",
   "metadata": {}
  },
  {
   "source": [
    "Is our television ad driving more sales?\n",
    "\n",
    "* null hyptohesis = the television ad has not impacted sales\n",
    "* alternative hypothesis = the television ad has increased sales\n",
    "* True positive = alpha > p and we establish that the television ad has increased sales\n",
    "* True negavite = alpha < p and we establish that the television ad has had no impact sales\n",
    "* Type 1 error: we reject the null that television ad has not impacted sales bu the truth is there is no impact\n",
    "* Type 2 error: we don't reject the null that the television ad has had no impact on sales but there has been significant impact\n"
   ],
   "cell_type": "markdown",
   "metadata": {}
  }
 ]
}