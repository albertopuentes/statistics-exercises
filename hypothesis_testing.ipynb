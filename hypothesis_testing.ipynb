{
 "metadata": {
  "language_info": {
   "codemirror_mode": {
    "name": "ipython",
    "version": 3
   },
   "file_extension": ".py",
   "mimetype": "text/x-python",
   "name": "python",
   "nbconvert_exporter": "python",
   "pygments_lexer": "ipython3",
   "version": "3.8.5"
  },
  "orig_nbformat": 2,
  "kernelspec": {
   "name": "python385jvsc74a57bd0b64057e63add2b45b1ffc7eab9b09c8889b419c878e2fdf0d08f837f0fc857a7",
   "display_name": "Python 3.8.5 64-bit ('base': conda)"
  },
  "metadata": {
   "interpreter": {
    "hash": "b64057e63add2b45b1ffc7eab9b09c8889b419c878e2fdf0d08f837f0fc857a7"
   }
  }
 },
 "nbformat": 4,
 "nbformat_minor": 2,
 "cells": [
  {
   "source": [
    "Has the network latency gone up since we switched internet service providers?\n",
    "* null hyptohesis = Internet service has no impact on network latency\n",
    "* alternative hypothesis = Newtork latency has gone up since switching internet service providers\n",
    "* True positive = alpha > p value and we establish that internet service does impact network latency\n",
    "* True negavite = alpha < p and we establish that internet service has no impact on network latency\n",
    "* Type 1 error: we reject that internet service has no impact on network latency but the truth is there is no impact\n",
    "* Type 2 error: we don't reject that internet service has no impact on network latecny but there is significant impact\n",
    "\n",
    "$H_{0}$ \n",
    "\n"
   ],
   "cell_type": "markdown",
   "metadata": {}
  },
  {
   "source": [
    "Is the website redesign any good?\n",
    "\n",
    "* null hyptohesis = the website redisign has had no impact on sales\n",
    "* alternative hypothesis = the webstite redesign has increased sales\n",
    "* True positive = alpha > p and we establish that the website redesign has increased sales\n",
    "* True negavite = alpha < p and we establish that the website redesign has had no impact sales\n",
    "* Type 1 error: we reject that the website redesing has not increased sales but the truth is there is no impact\n",
    "* Type 2 error: we don't reject that website redesign has had no impact on sales but there has been significant impact"
   ],
   "cell_type": "markdown",
   "metadata": {}
  },
  {
   "source": [
    "Is our television ad driving more sales?\n",
    "\n",
    "* null hyptohesis = the television ad has not impacted sales\n",
    "* alternative hypothesis = the television ad has increased sales\n",
    "* True positive = alpha > p and we establish that the television ad has increased sales\n",
    "* True negavite = alpha < p and we establish that the television ad has had no impact sales\n",
    "* Type 1 error: we reject the null that television ad has not impacted sales bu the truth is there is no impact\n",
    "* Type 2 error: we don't reject the null that the television ad has had no impact on sales but there has been significant impact\n"
   ],
   "cell_type": "markdown",
   "metadata": {}
  },
  {
   "cell_type": "code",
   "execution_count": 2,
   "metadata": {},
   "outputs": [],
   "source": [
    "from math import sqrt\n",
    "from scipy import stats\n",
    "from pydataset import data\n",
    "\n",
    "%matplotlib inline\n",
    "import matplotlib.pyplot as plt\n",
    "import numpy as np\n",
    "import pandas as pd\n"
   ]
  },
  {
   "cell_type": "code",
   "execution_count": 181,
   "metadata": {},
   "outputs": [],
   "source": [
    "# Ace Realty wants to determine whether the average time it takes to sell homes is different for its two offices. A sample of 40 sales from office #1 revealed a mean of 90 days and a standard deviation of 15 days. A sample of 50 sales from office #2 revealed a mean of 100 days and a standard deviation of 20 days. Use a .05 level of significance.\n",
    "\n",
    "    # null = location has no impact on avg home sales time\n",
    "    # alternative = site a sells houses faster than site b\n",
    "\n",
    "    # Independent Samples. yes, two separate sample sets\n",
    "\n",
    "    # Normal Distribution: greater than 30 observations so plenty to meet CLM \n",
    "\n",
    "    # Equal Variances:  variances of 219 & 393 not equal\n",
    "\n",
    "a_mean = 90\n",
    "a_stddev = 15\n",
    "b_mean = 100\n",
    "b_stddev = 20\n",
    "alpha = 0.05\n",
    "\n",
    "sitea = np.random.normal(a_mean, a_stddev, 40)\n",
    "siteb = np.random.normal(b_mean, b_stddev, 50)\n",
    "\n",
    "sitea.var(), siteb.var()\n",
    "\n",
    "\n",
    "t, p = stats.ttest_ind(sitea, siteb, equal_var= False)"
   ]
  },
  {
   "cell_type": "code",
   "execution_count": 182,
   "metadata": {},
   "outputs": [
    {
     "output_type": "execute_result",
     "data": {
      "text/plain": [
       "(-3.43464158242499, 0.0009084843336770494, 0.05)"
      ]
     },
     "metadata": {},
     "execution_count": 182
    }
   ],
   "source": [
    "t, p, alpha"
   ]
  },
  {
   "cell_type": "code",
   "execution_count": 47,
   "metadata": {},
   "outputs": [
    {
     "output_type": "stream",
     "name": "stdout",
     "text": [
      "is p < alpha?  True\nis t < 0?  True\n"
     ]
    }
   ],
   "source": [
    "print(\"is p < alpha? \", p < alpha)\n",
    "print(\"is t < 0? \", t < 0)"
   ]
  },
  {
   "cell_type": "code",
   "execution_count": null,
   "metadata": {},
   "outputs": [],
   "source": [
    "# Load the mpg dataset and use it to answer the following questions:\n",
    "\n",
    "# Is there a difference in fuel-efficiency in cars from 2008 vs 1999?\n",
    "# Are compact cars more fuel-efficient than the average car?\n",
    "# # Do manual cars get better gas mileage than automatic cars?"
   ]
  },
  {
   "cell_type": "code",
   "execution_count": 27,
   "metadata": {},
   "outputs": [
    {
     "output_type": "execute_result",
     "data": {
      "text/plain": [
       "    manufacturer   model  displ  year  cyl       trans drv  cty  hwy fl  \\\n",
       "1           audi      a4    1.8  1999    4    auto(l5)   f   18   29  p   \n",
       "2           audi      a4    1.8  1999    4  manual(m5)   f   21   29  p   \n",
       "3           audi      a4    2.0  2008    4  manual(m6)   f   20   31  p   \n",
       "4           audi      a4    2.0  2008    4    auto(av)   f   21   30  p   \n",
       "5           audi      a4    2.8  1999    6    auto(l5)   f   16   26  p   \n",
       "..           ...     ...    ...   ...  ...         ...  ..  ...  ... ..   \n",
       "230   volkswagen  passat    2.0  2008    4    auto(s6)   f   19   28  p   \n",
       "231   volkswagen  passat    2.0  2008    4  manual(m6)   f   21   29  p   \n",
       "232   volkswagen  passat    2.8  1999    6    auto(l5)   f   16   26  p   \n",
       "233   volkswagen  passat    2.8  1999    6  manual(m5)   f   18   26  p   \n",
       "234   volkswagen  passat    3.6  2008    6    auto(s6)   f   17   26  p   \n",
       "\n",
       "       class  \n",
       "1    compact  \n",
       "2    compact  \n",
       "3    compact  \n",
       "4    compact  \n",
       "5    compact  \n",
       "..       ...  \n",
       "230  midsize  \n",
       "231  midsize  \n",
       "232  midsize  \n",
       "233  midsize  \n",
       "234  midsize  \n",
       "\n",
       "[234 rows x 11 columns]"
      ],
      "text/html": "<div>\n<style scoped>\n    .dataframe tbody tr th:only-of-type {\n        vertical-align: middle;\n    }\n\n    .dataframe tbody tr th {\n        vertical-align: top;\n    }\n\n    .dataframe thead th {\n        text-align: right;\n    }\n</style>\n<table border=\"1\" class=\"dataframe\">\n  <thead>\n    <tr style=\"text-align: right;\">\n      <th></th>\n      <th>manufacturer</th>\n      <th>model</th>\n      <th>displ</th>\n      <th>year</th>\n      <th>cyl</th>\n      <th>trans</th>\n      <th>drv</th>\n      <th>cty</th>\n      <th>hwy</th>\n      <th>fl</th>\n      <th>class</th>\n    </tr>\n  </thead>\n  <tbody>\n    <tr>\n      <th>1</th>\n      <td>audi</td>\n      <td>a4</td>\n      <td>1.8</td>\n      <td>1999</td>\n      <td>4</td>\n      <td>auto(l5)</td>\n      <td>f</td>\n      <td>18</td>\n      <td>29</td>\n      <td>p</td>\n      <td>compact</td>\n    </tr>\n    <tr>\n      <th>2</th>\n      <td>audi</td>\n      <td>a4</td>\n      <td>1.8</td>\n      <td>1999</td>\n      <td>4</td>\n      <td>manual(m5)</td>\n      <td>f</td>\n      <td>21</td>\n      <td>29</td>\n      <td>p</td>\n      <td>compact</td>\n    </tr>\n    <tr>\n      <th>3</th>\n      <td>audi</td>\n      <td>a4</td>\n      <td>2.0</td>\n      <td>2008</td>\n      <td>4</td>\n      <td>manual(m6)</td>\n      <td>f</td>\n      <td>20</td>\n      <td>31</td>\n      <td>p</td>\n      <td>compact</td>\n    </tr>\n    <tr>\n      <th>4</th>\n      <td>audi</td>\n      <td>a4</td>\n      <td>2.0</td>\n      <td>2008</td>\n      <td>4</td>\n      <td>auto(av)</td>\n      <td>f</td>\n      <td>21</td>\n      <td>30</td>\n      <td>p</td>\n      <td>compact</td>\n    </tr>\n    <tr>\n      <th>5</th>\n      <td>audi</td>\n      <td>a4</td>\n      <td>2.8</td>\n      <td>1999</td>\n      <td>6</td>\n      <td>auto(l5)</td>\n      <td>f</td>\n      <td>16</td>\n      <td>26</td>\n      <td>p</td>\n      <td>compact</td>\n    </tr>\n    <tr>\n      <th>...</th>\n      <td>...</td>\n      <td>...</td>\n      <td>...</td>\n      <td>...</td>\n      <td>...</td>\n      <td>...</td>\n      <td>...</td>\n      <td>...</td>\n      <td>...</td>\n      <td>...</td>\n      <td>...</td>\n    </tr>\n    <tr>\n      <th>230</th>\n      <td>volkswagen</td>\n      <td>passat</td>\n      <td>2.0</td>\n      <td>2008</td>\n      <td>4</td>\n      <td>auto(s6)</td>\n      <td>f</td>\n      <td>19</td>\n      <td>28</td>\n      <td>p</td>\n      <td>midsize</td>\n    </tr>\n    <tr>\n      <th>231</th>\n      <td>volkswagen</td>\n      <td>passat</td>\n      <td>2.0</td>\n      <td>2008</td>\n      <td>4</td>\n      <td>manual(m6)</td>\n      <td>f</td>\n      <td>21</td>\n      <td>29</td>\n      <td>p</td>\n      <td>midsize</td>\n    </tr>\n    <tr>\n      <th>232</th>\n      <td>volkswagen</td>\n      <td>passat</td>\n      <td>2.8</td>\n      <td>1999</td>\n      <td>6</td>\n      <td>auto(l5)</td>\n      <td>f</td>\n      <td>16</td>\n      <td>26</td>\n      <td>p</td>\n      <td>midsize</td>\n    </tr>\n    <tr>\n      <th>233</th>\n      <td>volkswagen</td>\n      <td>passat</td>\n      <td>2.8</td>\n      <td>1999</td>\n      <td>6</td>\n      <td>manual(m5)</td>\n      <td>f</td>\n      <td>18</td>\n      <td>26</td>\n      <td>p</td>\n      <td>midsize</td>\n    </tr>\n    <tr>\n      <th>234</th>\n      <td>volkswagen</td>\n      <td>passat</td>\n      <td>3.6</td>\n      <td>2008</td>\n      <td>6</td>\n      <td>auto(s6)</td>\n      <td>f</td>\n      <td>17</td>\n      <td>26</td>\n      <td>p</td>\n      <td>midsize</td>\n    </tr>\n  </tbody>\n</table>\n<p>234 rows × 11 columns</p>\n</div>"
     },
     "metadata": {},
     "execution_count": 27
    }
   ],
   "source": [
    "mpg = data('mpg')\n",
    "mpg"
   ]
  },
  {
   "cell_type": "code",
   "execution_count": 73,
   "metadata": {},
   "outputs": [
    {
     "output_type": "execute_result",
     "data": {
      "text/plain": [
       "  manufacturer model  displ  year  cyl       trans drv  cty  hwy fl    class\n",
       "1         audi    a4    1.8  1999    4    auto(l5)   f   18   29  p  compact\n",
       "2         audi    a4    1.8  1999    4  manual(m5)   f   21   29  p  compact"
      ],
      "text/html": "<div>\n<style scoped>\n    .dataframe tbody tr th:only-of-type {\n        vertical-align: middle;\n    }\n\n    .dataframe tbody tr th {\n        vertical-align: top;\n    }\n\n    .dataframe thead th {\n        text-align: right;\n    }\n</style>\n<table border=\"1\" class=\"dataframe\">\n  <thead>\n    <tr style=\"text-align: right;\">\n      <th></th>\n      <th>manufacturer</th>\n      <th>model</th>\n      <th>displ</th>\n      <th>year</th>\n      <th>cyl</th>\n      <th>trans</th>\n      <th>drv</th>\n      <th>cty</th>\n      <th>hwy</th>\n      <th>fl</th>\n      <th>class</th>\n    </tr>\n  </thead>\n  <tbody>\n    <tr>\n      <th>1</th>\n      <td>audi</td>\n      <td>a4</td>\n      <td>1.8</td>\n      <td>1999</td>\n      <td>4</td>\n      <td>auto(l5)</td>\n      <td>f</td>\n      <td>18</td>\n      <td>29</td>\n      <td>p</td>\n      <td>compact</td>\n    </tr>\n    <tr>\n      <th>2</th>\n      <td>audi</td>\n      <td>a4</td>\n      <td>1.8</td>\n      <td>1999</td>\n      <td>4</td>\n      <td>manual(m5)</td>\n      <td>f</td>\n      <td>21</td>\n      <td>29</td>\n      <td>p</td>\n      <td>compact</td>\n    </tr>\n  </tbody>\n</table>\n</div>"
     },
     "metadata": {},
     "execution_count": 73
    }
   ],
   "source": [
    "avg_mpg = (mpg['cty'] + mpg['hwy'])/2\n",
    "eight_fuel = (mpg.year == 2008)\n",
    "x = mpg[eight_fuel]\n",
    "nine_fuel = (mpg.year == 1999)\n",
    "y = mpg[nine_fuel]\n",
    "y"
   ]
  },
  {
   "source": [
    "null_hypothesis = there is no difference in fuel efficiency between the 1999 & 2008"
   ],
   "cell_type": "markdown",
   "metadata": {}
  },
  {
   "cell_type": "code",
   "execution_count": 97,
   "metadata": {},
   "outputs": [],
   "source": [
    "mpg[\"avg_mpg\"] = (mpg.cty + mpg.hwy)/2\n",
    "avg_08 = mpg[mpg.year == 2008].avg_mpg\n",
    "avg_99 = mpg[mpg.year == 1999].avg_mpg"
   ]
  },
  {
   "cell_type": "code",
   "execution_count": 98,
   "metadata": {},
   "outputs": [
    {
     "output_type": "execute_result",
     "data": {
      "text/plain": [
       "(24.097480106100797, 27.122605363984682)"
      ]
     },
     "metadata": {},
     "execution_count": 98
    }
   ],
   "source": [
    "# Variance:  Similar\n",
    "avg_08.var(), avg_99.var()"
   ]
  },
  {
   "cell_type": "code",
   "execution_count": 104,
   "metadata": {},
   "outputs": [
    {
     "output_type": "execute_result",
     "data": {
      "text/plain": [
       "(-0.21960177245940962, 0.8263744040323578, 0.05)"
      ]
     },
     "metadata": {},
     "execution_count": 104
    }
   ],
   "source": [
    "# Is there a difference in fuel-efficiency in cars from 2008 vs 1999?  No\n",
    "\n",
    "t, p = stats.ttest_ind(avg_08, avg_99)\n",
    "\n",
    "t, p, alpha"
   ]
  },
  {
   "cell_type": "code",
   "execution_count": 131,
   "metadata": {},
   "outputs": [],
   "source": [
    "# Are compact cars more fuel-efficient than the average car?\n",
    "mpg[\"avg_mpg\"] = (mpg.cty + mpg.hwy)/2\n",
    "mpg[\"avg_mpg\"] = (mpg.cty + mpg.hwy)/2\n",
    "compact = mpg[mpg[\"class\"] == 'compact'].avg_mpg\n",
    "carpop = mpg[\"avg_mpg\"].mean()\n"
   ]
  },
  {
   "cell_type": "code",
   "execution_count": 125,
   "metadata": {},
   "outputs": [
    {
     "output_type": "execute_result",
     "data": {
      "text/plain": [
       "(12.442876965772433, 25.50542900113715)"
      ]
     },
     "metadata": {},
     "execution_count": 125
    }
   ],
   "source": [
    "compact.var(), carpop.var()\n",
    "# 12.4 & 25.5 not the same"
   ]
  },
  {
   "cell_type": "code",
   "execution_count": 132,
   "metadata": {},
   "outputs": [
    {
     "output_type": "execute_result",
     "data": {
      "text/plain": [
       "(7.896888573132535, 2.0992818971585668e-10, 0.05)"
      ]
     },
     "metadata": {},
     "execution_count": 132
    }
   ],
   "source": [
    "\n",
    "t, p = stats.ttest_1samp(compact, carpop)\n",
    "\n",
    "t, p/2, alpha"
   ]
  },
  {
   "cell_type": "code",
   "execution_count": 169,
   "metadata": {},
   "outputs": [],
   "source": [
    "# Do manual cars get better gas mileage than automatic cars?\n",
    "\n",
    "mpg[\"avg_mpg\"] = (mpg.cty + mpg.hwy)/2\n",
    "mpg['auto'] = mpg[mpg['trans'].str.startswith('a')].avg_mpg\n",
    "mpg['manual'] = mpg[mpg['trans'].str.startswith('m')].avg_mpg\n",
    "auto = mpg[mpg[\"a or m\"] == 'auto'].avg_mpg\n",
    "manual = mpg[mpg[\"a or m\"] == 'manual'].avg_mpg"
   ]
  },
  {
   "cell_type": "code",
   "execution_count": 171,
   "metadata": {},
   "outputs": [
    {
     "output_type": "execute_result",
     "data": {
      "text/plain": [
       "(21.942777233382337, 26.635167464114826)"
      ]
     },
     "metadata": {},
     "execution_count": 171
    }
   ],
   "source": [
    "auto.var(), manual.var()"
   ]
  },
  {
   "cell_type": "code",
   "execution_count": 176,
   "metadata": {},
   "outputs": [
    {
     "output_type": "execute_result",
     "data": {
      "text/plain": [
       "(4.443514012903071, 1.795224899991793e-05, 0.05)"
      ]
     },
     "metadata": {},
     "execution_count": 176
    }
   ],
   "source": [
    "t, p = stats.ttest_ind(manual, auto, equal_var=False)\n",
    "t, p, alpha"
   ]
  },
  {
   "cell_type": "code",
   "execution_count": 275,
   "metadata": {},
   "outputs": [
    {
     "output_type": "stream",
     "name": "stdout",
     "text": [
      "<class 'pandas.core.frame.DataFrame'>\nRangeIndex: 7043 entries, 0 to 7042\nData columns (total 21 columns):\n #   Column            Non-Null Count  Dtype  \n---  ------            --------------  -----  \n 0   customerID        7043 non-null   object \n 1   gender            7043 non-null   object \n 2   SeniorCitizen     7043 non-null   int64  \n 3   Partner           7043 non-null   object \n 4   Dependents        7043 non-null   object \n 5   tenure            7043 non-null   int64  \n 6   PhoneService      7043 non-null   object \n 7   MultipleLines     7043 non-null   object \n 8   InternetService   7043 non-null   object \n 9   OnlineSecurity    7043 non-null   object \n 10  OnlineBackup      7043 non-null   object \n 11  DeviceProtection  7043 non-null   object \n 12  TechSupport       7043 non-null   object \n 13  StreamingTV       7043 non-null   object \n 14  StreamingMovies   7043 non-null   object \n 15  Contract          7043 non-null   object \n 16  PaperlessBilling  7043 non-null   object \n 17  PaymentMethod     7043 non-null   object \n 18  MonthlyCharges    7043 non-null   float64\n 19  TotalCharges      7043 non-null   object \n 20  Churn             7043 non-null   object \ndtypes: float64(1), int64(2), object(18)\nmemory usage: 1.1+ MB\n"
     ]
    }
   ],
   "source": [
    "# Use the telco_churn data. Does tenure correlate with monthly charges? Total charges? What happens if you control for phone and internet service?\n",
    "\n",
    "df = pd.read_csv('Cust_Churn_Telco.csv')\n",
    "df.info()"
   ]
  },
  {
   "cell_type": "code",
   "execution_count": 278,
   "metadata": {},
   "outputs": [
    {
     "output_type": "stream",
     "name": "stdout",
     "text": [
      "<class 'pandas.core.frame.DataFrame'>\nRangeIndex: 7043 entries, 0 to 7042\nData columns (total 21 columns):\n #   Column            Non-Null Count  Dtype  \n---  ------            --------------  -----  \n 0   customerID        7043 non-null   object \n 1   gender            7043 non-null   object \n 2   SeniorCitizen     7043 non-null   int64  \n 3   Partner           7043 non-null   object \n 4   Dependents        7043 non-null   object \n 5   tenure            7043 non-null   int64  \n 6   PhoneService      7043 non-null   object \n 7   MultipleLines     7043 non-null   object \n 8   InternetService   7043 non-null   object \n 9   OnlineSecurity    7043 non-null   object \n 10  OnlineBackup      7043 non-null   object \n 11  DeviceProtection  7043 non-null   object \n 12  TechSupport       7043 non-null   object \n 13  StreamingTV       7043 non-null   object \n 14  StreamingMovies   7043 non-null   object \n 15  Contract          7043 non-null   object \n 16  PaperlessBilling  7043 non-null   object \n 17  PaymentMethod     7043 non-null   object \n 18  MonthlyCharges    7043 non-null   float64\n 19  TotalCharges      7032 non-null   float64\n 20  Churn             7043 non-null   object \ndtypes: float64(2), int64(2), object(17)\nmemory usage: 1.1+ MB\n"
     ]
    }
   ],
   "source": [
    "df['TotalCharges'] = pd.to_numeric(df['TotalCharges'], errors='coerce')"
   ]
  },
  {
   "cell_type": "code",
   "execution_count": 296,
   "metadata": {},
   "outputs": [
    {
     "output_type": "execute_result",
     "data": {
      "text/plain": [
       "(0.2478998562861525, 4.094044991483017e-99)"
      ]
     },
     "metadata": {},
     "execution_count": 296
    }
   ],
   "source": [
    "# Does tenure correlate with monthly charges?\n",
    "# null_hypothesis: Tenure does not correlate with monthly charges\n",
    "# alt_hypothesis: Tenure does correlate with monthly charges?\n",
    "# 0.2478% r score suggests a small correlation and a p score < .01 suggests we can reject the null hypothesis\n",
    "\n",
    "x = df.tenure\n",
    "y = df.MonthlyCharges\n",
    "r, p = stats.pearsonr(x, y)\n",
    "r, p\n"
   ]
  },
  {
   "cell_type": "code",
   "execution_count": 294,
   "metadata": {},
   "outputs": [
    {
     "output_type": "execute_result",
     "data": {
      "text/plain": [
       "(0.8261783979502477, 0.0)"
      ]
     },
     "metadata": {},
     "execution_count": 294
    }
   ],
   "source": [
    "#  Does tenure correlate with Total charges?\n",
    "# null_hypothesis: Tenure does not correlate with total charges\n",
    "# alt_hypothesis: Tenure does correlate with total charges?\n",
    "# 0.82% r score suggests a large correlation and a p score < .00 suggests we can reject the null hypothesis\n",
    "\n",
    "x = df.tenure\n",
    "y = df.TotalCharges.fillna(0)\n",
    "r, p = stats.pearsonr(x, y)\n",
    "r, p"
   ]
  },
  {
   "cell_type": "code",
   "execution_count": 314,
   "metadata": {},
   "outputs": [
    {
     "output_type": "execute_result",
     "data": {
      "text/plain": [
       "(0.2453889858536324, 7.117871077925186e-88)"
      ]
     },
     "metadata": {},
     "execution_count": 314
    }
   ],
   "source": [
    "# What happens if you control for phone and internet service?\n",
    "# Monthly Charges & PhoneService = Yes: r = 0.245 & p =7.11-88.  \n",
    "x = df['tenure'][df['PhoneService'] == \"Yes\"]\n",
    "y = df['MonthlyCharges'][df['PhoneService'] == \"Yes\"]\n",
    "r, p = stats.pearsonr(x, y)\n",
    "r, p"
   ]
  },
  {
   "cell_type": "code",
   "execution_count": 315,
   "metadata": {},
   "outputs": [
    {
     "output_type": "execute_result",
     "data": {
      "text/plain": [
       "(0.5857597986661375, 4.6033703473404816e-64)"
      ]
     },
     "metadata": {},
     "execution_count": 315
    }
   ],
   "source": [
    "# Monthly Charges & PhoneService = No: r = 0.585 & p =4.60-64. \n",
    "x = df['tenure'][df['PhoneService'] != \"Yes\"]\n",
    "y = df['MonthlyCharges'][df['PhoneService'] != \"Yes\"]\n",
    "r, p = stats.pearsonr(x, y)\n",
    "r, p"
   ]
  },
  {
   "source": [
    "# When controlling for PhoneService, tenure impacts MonthlyCharges much more when client does not subscribe to Phone Services."
   ],
   "cell_type": "markdown",
   "metadata": {}
  },
  {
   "cell_type": "code",
   "execution_count": 318,
   "metadata": {},
   "outputs": [
    {
     "output_type": "execute_result",
     "data": {
      "text/plain": [
       "(0.37230662631986955, 5.89096358049607e-181)"
      ]
     },
     "metadata": {},
     "execution_count": 318
    }
   ],
   "source": [
    "\n",
    "# Monthly Charges & Internet Service = Yes: r = 0.373 & p =5.85-181.  \n",
    "x = df['tenure'][df['InternetService'] != \"No\"]\n",
    "y = df['MonthlyCharges'][df['InternetService'] != \"No\"]\n",
    "r, p = stats.pearsonr(x, y)\n",
    "r, p"
   ]
  },
  {
   "cell_type": "code",
   "execution_count": 319,
   "metadata": {},
   "outputs": [
    {
     "output_type": "execute_result",
     "data": {
      "text/plain": [
       "(0.34232562306194547, 3.3561869551954843e-43)"
      ]
     },
     "metadata": {},
     "execution_count": 319
    }
   ],
   "source": [
    "# Monthly Charges & Internet Service = No: r = 0.343 & p =3.35-43.  \n",
    "x = df['tenure'][df['InternetService'] == \"No\"]\n",
    "y = df['MonthlyCharges'][df['InternetService'] == \"No\"]\n",
    "r, p = stats.pearsonr(x, y)\n",
    "r, p"
   ]
  },
  {
   "source": [
    "# When controlling for Internet Service, tenure does impact MonthlyCharges but the impact is similar whether or not they are an Internet subscriber.\n"
   ],
   "cell_type": "markdown",
   "metadata": {}
  },
  {
   "cell_type": "code",
   "execution_count": 4,
   "metadata": {},
   "outputs": [],
   "source": [
    "# Use the employees database.\n",
    "# Is there a relationship between how long an employee has been with the company and their salary?\n",
    "# # Is there a relationship between how long an employee has been with the company and the number of titles they have had?\n",
    "\n",
    "import pandas as pd \n",
    "import numpy as np\n",
    "from datetime import date\n",
    "from env import host, username, password\n",
    "\n",
    "def get_db_url(host, username, password, database):\n",
    "    url = f'mysql+pymysql://{username}:{password}@{host}/{database}'\n",
    "    return url\n",
    "\n",
    "url = get_db_url(host, username, password, 'employees')\n"
   ]
  },
  {
   "cell_type": "code",
   "execution_count": 5,
   "metadata": {},
   "outputs": [],
   "source": [
    "salaries = pd.read_sql('select * from salaries', url)\n"
   ]
  },
  {
   "cell_type": "code",
   "execution_count": 6,
   "metadata": {},
   "outputs": [],
   "source": [
    "employees = pd.read_sql('select * from employees', url)"
   ]
  },
  {
   "cell_type": "code",
   "execution_count": 7,
   "metadata": {},
   "outputs": [],
   "source": [
    "titles = pd.read_sql('select * from titles', url)"
   ]
  },
  {
   "cell_type": "code",
   "execution_count": 17,
   "metadata": {},
   "outputs": [
    {
     "output_type": "stream",
     "name": "stdout",
     "text": [
      "<class 'pandas.core.frame.DataFrame'>\nInt64Index: 2844047 entries, 0 to 2844046\nData columns (total 9 columns):\n #   Column      Dtype \n---  ------      ----- \n 0   emp_no      int64 \n 1   salary      int64 \n 2   from_date   object\n 3   to_date     object\n 4   birth_date  object\n 5   first_name  object\n 6   last_name   object\n 7   gender      object\n 8   hire_date   object\ndtypes: int64(2), object(7)\nmemory usage: 217.0+ MB\n"
     ]
    }
   ],
   "source": [
    "# Is there a relationship between how long an employee has been with the company and their salary?\n",
    "\n",
    "sal_emp = salaries.merge(employees, on='emp_no', how='inner')\n",
    "sal_emp.info()"
   ]
  },
  {
   "cell_type": "code",
   "execution_count": 34,
   "metadata": {},
   "outputs": [
    {
     "output_type": "execute_result",
     "data": {
      "text/plain": [
       "'2021-05-11'"
      ]
     },
     "metadata": {},
     "execution_count": 34
    }
   ],
   "source": [
    "sal_emp['to_date'] = sal_emp['to_date'].astype('|S')\n",
    "sal_emp['to_date'] = sal_emp['to_date'].str.decode('utf-8')\n",
    "sal_emp['to_date'] = sal_emp['to_date'].str.replace('9999-01-01', '2021-05-11')\n",
    "\n"
   ]
  },
  {
   "cell_type": "code",
   "execution_count": 12,
   "metadata": {},
   "outputs": [
    {
     "output_type": "execute_result",
     "data": {
      "text/plain": [
       "0     0          0          0          1987-06-26\\n1...\n",
       "1     0          0          0          1987-06-26\\n1...\n",
       "2     0          0          0          1987-06-26\\n1...\n",
       "3     0          0          0          1987-06-26\\n1...\n",
       "4     0          0          0          1987-06-26\\n1...\n",
       "                            ...                        \n",
       "95    0          0          0          1987-06-26\\n1...\n",
       "96    0          0          0          1987-06-26\\n1...\n",
       "97    0          0          0          1987-06-26\\n1...\n",
       "98    0          0          0          1987-06-26\\n1...\n",
       "99    0          0          0          1987-06-26\\n1...\n",
       "Name: to_date, Length: 100, dtype: object"
      ]
     },
     "metadata": {},
     "execution_count": 12
    }
   ],
   "source": [
    "= sal_emp['to_date'].str.replace('9999-01-01', '2021-05-11')\n"
   ]
  },
  {
   "cell_type": "code",
   "execution_count": null,
   "metadata": {},
   "outputs": [],
   "source": [
    "salaries_df['to_date']= salaries_df['to_date'].replace(to_replace = salaries_df[\"to_date\"].max(), value =date.today())"
   ]
  },
  {
   "cell_type": "code",
   "execution_count": 116,
   "metadata": {},
   "outputs": [
    {
     "output_type": "error",
     "ename": "ValueError",
     "evalue": "Array conditional must be same shape as self",
     "traceback": [
      "\u001b[0;31m---------------------------------------------------------------------------\u001b[0m",
      "\u001b[0;31mValueError\u001b[0m                                Traceback (most recent call last)",
      "\u001b[0;32m<ipython-input-116-8316859eb502>\u001b[0m in \u001b[0;36m<module>\u001b[0;34m\u001b[0m\n\u001b[0;32m----> 1\u001b[0;31m \u001b[0msalary_title_df\u001b[0m\u001b[0;34m[\u001b[0m\u001b[0;34m'to_date'\u001b[0m\u001b[0;34m]\u001b[0m\u001b[0;34m.\u001b[0m\u001b[0mwhere\u001b[0m\u001b[0;34m(\u001b[0m\u001b[0;34m'9999-01-01'\u001b[0m\u001b[0;34m,\u001b[0m \u001b[0;34m'2021-05-11'\u001b[0m\u001b[0;34m)\u001b[0m\u001b[0;34m\u001b[0m\u001b[0;34m\u001b[0m\u001b[0m\n\u001b[0m",
      "\u001b[0;32m/opt/homebrew/anaconda3/lib/python3.8/site-packages/pandas/core/generic.py\u001b[0m in \u001b[0;36mwhere\u001b[0;34m(self, cond, other, inplace, axis, level, errors, try_cast)\u001b[0m\n\u001b[1;32m   9002\u001b[0m         \"\"\"\n\u001b[1;32m   9003\u001b[0m         \u001b[0mother\u001b[0m \u001b[0;34m=\u001b[0m \u001b[0mcom\u001b[0m\u001b[0;34m.\u001b[0m\u001b[0mapply_if_callable\u001b[0m\u001b[0;34m(\u001b[0m\u001b[0mother\u001b[0m\u001b[0;34m,\u001b[0m \u001b[0mself\u001b[0m\u001b[0;34m)\u001b[0m\u001b[0;34m\u001b[0m\u001b[0;34m\u001b[0m\u001b[0m\n\u001b[0;32m-> 9004\u001b[0;31m         return self._where(\n\u001b[0m\u001b[1;32m   9005\u001b[0m             \u001b[0mcond\u001b[0m\u001b[0;34m,\u001b[0m \u001b[0mother\u001b[0m\u001b[0;34m,\u001b[0m \u001b[0minplace\u001b[0m\u001b[0;34m,\u001b[0m \u001b[0maxis\u001b[0m\u001b[0;34m,\u001b[0m \u001b[0mlevel\u001b[0m\u001b[0;34m,\u001b[0m \u001b[0merrors\u001b[0m\u001b[0;34m=\u001b[0m\u001b[0merrors\u001b[0m\u001b[0;34m,\u001b[0m \u001b[0mtry_cast\u001b[0m\u001b[0;34m=\u001b[0m\u001b[0mtry_cast\u001b[0m\u001b[0;34m\u001b[0m\u001b[0;34m\u001b[0m\u001b[0m\n\u001b[1;32m   9006\u001b[0m         )\n",
      "\u001b[0;32m/opt/homebrew/anaconda3/lib/python3.8/site-packages/pandas/core/generic.py\u001b[0m in \u001b[0;36m_where\u001b[0;34m(self, cond, other, inplace, axis, level, errors, try_cast)\u001b[0m\n\u001b[1;32m   8747\u001b[0m                 \u001b[0mcond\u001b[0m \u001b[0;34m=\u001b[0m \u001b[0mnp\u001b[0m\u001b[0;34m.\u001b[0m\u001b[0masanyarray\u001b[0m\u001b[0;34m(\u001b[0m\u001b[0mcond\u001b[0m\u001b[0;34m)\u001b[0m\u001b[0;34m\u001b[0m\u001b[0;34m\u001b[0m\u001b[0m\n\u001b[1;32m   8748\u001b[0m             \u001b[0;32mif\u001b[0m \u001b[0mcond\u001b[0m\u001b[0;34m.\u001b[0m\u001b[0mshape\u001b[0m \u001b[0;34m!=\u001b[0m \u001b[0mself\u001b[0m\u001b[0;34m.\u001b[0m\u001b[0mshape\u001b[0m\u001b[0;34m:\u001b[0m\u001b[0;34m\u001b[0m\u001b[0;34m\u001b[0m\u001b[0m\n\u001b[0;32m-> 8749\u001b[0;31m                 \u001b[0;32mraise\u001b[0m \u001b[0mValueError\u001b[0m\u001b[0;34m(\u001b[0m\u001b[0;34m\"Array conditional must be same shape as self\"\u001b[0m\u001b[0;34m)\u001b[0m\u001b[0;34m\u001b[0m\u001b[0;34m\u001b[0m\u001b[0m\n\u001b[0m\u001b[1;32m   8750\u001b[0m             \u001b[0mcond\u001b[0m \u001b[0;34m=\u001b[0m \u001b[0mself\u001b[0m\u001b[0;34m.\u001b[0m\u001b[0m_constructor\u001b[0m\u001b[0;34m(\u001b[0m\u001b[0mcond\u001b[0m\u001b[0;34m,\u001b[0m \u001b[0;34m**\u001b[0m\u001b[0mself\u001b[0m\u001b[0;34m.\u001b[0m\u001b[0m_construct_axes_dict\u001b[0m\u001b[0;34m(\u001b[0m\u001b[0;34m)\u001b[0m\u001b[0;34m)\u001b[0m\u001b[0;34m\u001b[0m\u001b[0;34m\u001b[0m\u001b[0m\n\u001b[1;32m   8751\u001b[0m \u001b[0;34m\u001b[0m\u001b[0m\n",
      "\u001b[0;31mValueError\u001b[0m: Array conditional must be same shape as self"
     ]
    }
   ],
   "source": [
    "salary_title_df['to_date'].where('9999-01-01', '2021-05-11')"
   ]
  },
  {
   "cell_type": "code",
   "execution_count": 110,
   "metadata": {},
   "outputs": [
    {
     "output_type": "execute_result",
     "data": {
      "text/plain": [
       "         emp_no  birth_date first_name last_name gender   hire_date  emp_no  \\\n",
       "0         10001  1953-09-02     Georgi   Facello      M  1986-06-26   10001   \n",
       "1         10001  1953-09-02     Georgi   Facello      M  1986-06-26   10001   \n",
       "2         10001  1953-09-02     Georgi   Facello      M  1986-06-26   10001   \n",
       "3         10001  1953-09-02     Georgi   Facello      M  1986-06-26   10001   \n",
       "4         10001  1953-09-02     Georgi   Facello      M  1986-06-26   10001   \n",
       "...         ...         ...        ...       ...    ...         ...     ...   \n",
       "2844042  499999  1958-05-01     Sachin   Tsukuda      M  1997-11-30  499999   \n",
       "2844043  499999  1958-05-01     Sachin   Tsukuda      M  1997-11-30  499999   \n",
       "2844044  499999  1958-05-01     Sachin   Tsukuda      M  1997-11-30  499999   \n",
       "2844045  499999  1958-05-01     Sachin   Tsukuda      M  1997-11-30  499999   \n",
       "2844046  499999  1958-05-01     Sachin   Tsukuda      M  1997-11-30  499999   \n",
       "\n",
       "         salary   from_date     to_date tenure  \n",
       "0         60117  1986-06-26  1987-06-26 0 days  \n",
       "1         62102  1987-06-26  1988-06-25 0 days  \n",
       "2         66074  1988-06-25  1989-06-25 0 days  \n",
       "3         66596  1989-06-25  1990-06-25 0 days  \n",
       "4         66961  1990-06-25  1991-06-25 0 days  \n",
       "...         ...         ...         ...    ...  \n",
       "2844042   63707  1997-11-30  1998-11-30 0 days  \n",
       "2844043   67043  1998-11-30  1999-11-30 0 days  \n",
       "2844044   70745  1999-11-30  2000-11-29 0 days  \n",
       "2844045   74327  2000-11-29  2001-11-29 0 days  \n",
       "2844046   77303  2001-11-29  9999-01-01 0 days  \n",
       "\n",
       "[2844047 rows x 11 columns]"
      ],
      "text/html": "<div>\n<style scoped>\n    .dataframe tbody tr th:only-of-type {\n        vertical-align: middle;\n    }\n\n    .dataframe tbody tr th {\n        vertical-align: top;\n    }\n\n    .dataframe thead th {\n        text-align: right;\n    }\n</style>\n<table border=\"1\" class=\"dataframe\">\n  <thead>\n    <tr style=\"text-align: right;\">\n      <th></th>\n      <th>emp_no</th>\n      <th>birth_date</th>\n      <th>first_name</th>\n      <th>last_name</th>\n      <th>gender</th>\n      <th>hire_date</th>\n      <th>emp_no</th>\n      <th>salary</th>\n      <th>from_date</th>\n      <th>to_date</th>\n      <th>tenure</th>\n    </tr>\n  </thead>\n  <tbody>\n    <tr>\n      <th>0</th>\n      <td>10001</td>\n      <td>1953-09-02</td>\n      <td>Georgi</td>\n      <td>Facello</td>\n      <td>M</td>\n      <td>1986-06-26</td>\n      <td>10001</td>\n      <td>60117</td>\n      <td>1986-06-26</td>\n      <td>1987-06-26</td>\n      <td>0 days</td>\n    </tr>\n    <tr>\n      <th>1</th>\n      <td>10001</td>\n      <td>1953-09-02</td>\n      <td>Georgi</td>\n      <td>Facello</td>\n      <td>M</td>\n      <td>1986-06-26</td>\n      <td>10001</td>\n      <td>62102</td>\n      <td>1987-06-26</td>\n      <td>1988-06-25</td>\n      <td>0 days</td>\n    </tr>\n    <tr>\n      <th>2</th>\n      <td>10001</td>\n      <td>1953-09-02</td>\n      <td>Georgi</td>\n      <td>Facello</td>\n      <td>M</td>\n      <td>1986-06-26</td>\n      <td>10001</td>\n      <td>66074</td>\n      <td>1988-06-25</td>\n      <td>1989-06-25</td>\n      <td>0 days</td>\n    </tr>\n    <tr>\n      <th>3</th>\n      <td>10001</td>\n      <td>1953-09-02</td>\n      <td>Georgi</td>\n      <td>Facello</td>\n      <td>M</td>\n      <td>1986-06-26</td>\n      <td>10001</td>\n      <td>66596</td>\n      <td>1989-06-25</td>\n      <td>1990-06-25</td>\n      <td>0 days</td>\n    </tr>\n    <tr>\n      <th>4</th>\n      <td>10001</td>\n      <td>1953-09-02</td>\n      <td>Georgi</td>\n      <td>Facello</td>\n      <td>M</td>\n      <td>1986-06-26</td>\n      <td>10001</td>\n      <td>66961</td>\n      <td>1990-06-25</td>\n      <td>1991-06-25</td>\n      <td>0 days</td>\n    </tr>\n    <tr>\n      <th>...</th>\n      <td>...</td>\n      <td>...</td>\n      <td>...</td>\n      <td>...</td>\n      <td>...</td>\n      <td>...</td>\n      <td>...</td>\n      <td>...</td>\n      <td>...</td>\n      <td>...</td>\n      <td>...</td>\n    </tr>\n    <tr>\n      <th>2844042</th>\n      <td>499999</td>\n      <td>1958-05-01</td>\n      <td>Sachin</td>\n      <td>Tsukuda</td>\n      <td>M</td>\n      <td>1997-11-30</td>\n      <td>499999</td>\n      <td>63707</td>\n      <td>1997-11-30</td>\n      <td>1998-11-30</td>\n      <td>0 days</td>\n    </tr>\n    <tr>\n      <th>2844043</th>\n      <td>499999</td>\n      <td>1958-05-01</td>\n      <td>Sachin</td>\n      <td>Tsukuda</td>\n      <td>M</td>\n      <td>1997-11-30</td>\n      <td>499999</td>\n      <td>67043</td>\n      <td>1998-11-30</td>\n      <td>1999-11-30</td>\n      <td>0 days</td>\n    </tr>\n    <tr>\n      <th>2844044</th>\n      <td>499999</td>\n      <td>1958-05-01</td>\n      <td>Sachin</td>\n      <td>Tsukuda</td>\n      <td>M</td>\n      <td>1997-11-30</td>\n      <td>499999</td>\n      <td>70745</td>\n      <td>1999-11-30</td>\n      <td>2000-11-29</td>\n      <td>0 days</td>\n    </tr>\n    <tr>\n      <th>2844045</th>\n      <td>499999</td>\n      <td>1958-05-01</td>\n      <td>Sachin</td>\n      <td>Tsukuda</td>\n      <td>M</td>\n      <td>1997-11-30</td>\n      <td>499999</td>\n      <td>74327</td>\n      <td>2000-11-29</td>\n      <td>2001-11-29</td>\n      <td>0 days</td>\n    </tr>\n    <tr>\n      <th>2844046</th>\n      <td>499999</td>\n      <td>1958-05-01</td>\n      <td>Sachin</td>\n      <td>Tsukuda</td>\n      <td>M</td>\n      <td>1997-11-30</td>\n      <td>499999</td>\n      <td>77303</td>\n      <td>2001-11-29</td>\n      <td>9999-01-01</td>\n      <td>0 days</td>\n    </tr>\n  </tbody>\n</table>\n<p>2844047 rows × 11 columns</p>\n</div>"
     },
     "metadata": {},
     "execution_count": 110
    }
   ],
   "source": [
    "salary_title_df"
   ]
  },
  {
   "cell_type": "code",
   "execution_count": 170,
   "metadata": {},
   "outputs": [
    {
     "output_type": "execute_result",
     "data": {
      "text/plain": [
       "<function date.today>"
      ]
     },
     "metadata": {},
     "execution_count": 170
    }
   ],
   "source": []
  },
  {
   "cell_type": "code",
   "execution_count": null,
   "metadata": {},
   "outputs": [],
   "source": [
    "salaries_df['to_date']= salaries_df['to_date'].replace(to_replace = salaries_df[\"to_date\"].max(), value =date.today())"
   ]
  }
 ]
}