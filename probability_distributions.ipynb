{
 "metadata": {
  "language_info": {
   "codemirror_mode": {
    "name": "ipython",
    "version": 3
   },
   "file_extension": ".py",
   "mimetype": "text/x-python",
   "name": "python",
   "nbconvert_exporter": "python",
   "pygments_lexer": "ipython3",
   "version": "3.8.5"
  },
  "orig_nbformat": 2,
  "kernelspec": {
   "name": "python385jvsc74a57bd0b64057e63add2b45b1ffc7eab9b09c8889b419c878e2fdf0d08f837f0fc857a7",
   "display_name": "Python 3.8.5 64-bit ('base': conda)"
  },
  "metadata": {
   "interpreter": {
    "hash": "b64057e63add2b45b1ffc7eab9b09c8889b419c878e2fdf0d08f837f0fc857a7"
   }
  }
 },
 "nbformat": 4,
 "nbformat_minor": 2,
 "cells": [
  {
   "cell_type": "code",
   "execution_count": 3,
   "metadata": {},
   "outputs": [
    {
     "output_type": "execute_result",
     "data": {
      "text/plain": [
       "0.1353352832366127"
      ]
     },
     "metadata": {},
     "execution_count": 3
    }
   ],
   "source": [
    "import matplotlib.pyplot as plt\n",
    "import numpy as np\n",
    "import pandas as pd\n",
    "from scipy import stats\n",
    "\n",
    "# A bank found that the average number of cars waiting during the noon hour at a drive-up window follows a Poisson distribution with a mean of 2 cars. Make a chart of this distribution and answer these questions concerning the probability of cars waiting at the drive-up window.\n",
    "\n",
    "# What is the probability that no cars drive up in the noon hour?\n",
    "\n",
    "stats.poisson(2).pmf(0)"
   ]
  },
  {
   "cell_type": "code",
   "execution_count": 34,
   "metadata": {},
   "outputs": [
    {
     "output_type": "execute_result",
     "data": {
      "text/plain": [
       "0.32332358381693654"
      ]
     },
     "metadata": {},
     "execution_count": 34
    }
   ],
   "source": [
    "# What is the probability that 3 or more cars come through the drive through?\n",
    "stats.poisson(2).sf(2)"
   ]
  },
  {
   "cell_type": "code",
   "execution_count": 35,
   "metadata": {},
   "outputs": [
    {
     "output_type": "execute_result",
     "data": {
      "text/plain": [
       "0.8646647167633873"
      ]
     },
     "metadata": {},
     "execution_count": 35
    }
   ],
   "source": [
    "# How likely is it that the drive through gets at least 1 car?\n",
    "stats.poisson(2).sf(0)\n",
    "\n"
   ]
  },
  {
   "cell_type": "code",
   "execution_count": 41,
   "metadata": {},
   "outputs": [
    {
     "output_type": "execute_result",
     "data": {
      "text/plain": [
       "3.4934560880854417"
      ]
     },
     "metadata": {},
     "execution_count": 41
    }
   ],
   "source": [
    "# Grades of State University graduates are normally distributed with a mean of 3.0 and a standard deviation of .3. Calculate the following:\n",
    "\n",
    "# What grade point average is required to be in the top 5% of the graduating class?\n",
    "\n",
    "mean = 3\n",
    "std_dev = .3\n",
    "\n",
    "# Use Scripy Stats module to generte a dist:\n",
    "stats.norm(mean, std_dev)\n",
    "\n",
    "# use apporpriate method to predict probability\n",
    "stats.norm(mean, std_dev).isf(.05)\n",
    "\n"
   ]
  },
  {
   "cell_type": "code",
   "execution_count": 40,
   "metadata": {},
   "outputs": [
    {
     "output_type": "execute_result",
     "data": {
      "text/plain": [
       "2.689069983151863"
      ]
     },
     "metadata": {},
     "execution_count": 40
    }
   ],
   "source": [
    "# What GPA constitutes the bottom 15% of the class?\n",
    "mean = 3\n",
    "std_dev = .3\n",
    "\n",
    "stats.norm(mean, std_dev).ppf(.15)"
   ]
  },
  {
   "cell_type": "code",
   "execution_count": 56,
   "metadata": {},
   "outputs": [
    {
     "output_type": "execute_result",
     "data": {
      "text/plain": [
       "2.9239958690592602"
      ]
     },
     "metadata": {},
     "execution_count": 56
    }
   ],
   "source": [
    "# An eccentric alumnus left scholarship money for students in the third decile from the bottom of their class. Determine the range of the third decile. Would a student with a 2.8 grade point average qualify for this scholarship?\n",
    "mean = 3\n",
    "std_dev = .3\n",
    "three_dec = stats.norm(mean, std_dev).ppf(.3)\n",
    "four_dec = stats.norm(mean, std_dev).ppf(.4)\n",
    "\n",
    "three_dec\n",
    "# 2.84267 \n",
    "four_dec\n",
    "# 2.9239\n",
    "# a 2.8 grade point avg would not qualify"
   ]
  },
  {
   "cell_type": "code",
   "execution_count": 57,
   "metadata": {},
   "outputs": [
    {
     "output_type": "execute_result",
     "data": {
      "text/plain": [
       "0.9522096477271853"
      ]
     },
     "metadata": {},
     "execution_count": 57
    }
   ],
   "source": [
    "# If I have a GPA of 3.5, what percentile am I in?\n",
    "mean = 3\n",
    "std_dev = .3\n",
    "stats.norm(mean, std_dev).cdf(3.5)\n"
   ]
  },
  {
   "cell_type": "code",
   "execution_count": 6,
   "metadata": {},
   "outputs": [
    {
     "output_type": "execute_result",
     "data": {
      "text/plain": [
       "0.1397582363130086"
      ]
     },
     "metadata": {},
     "execution_count": 6
    }
   ],
   "source": [
    "# A marketing website has an average click-through rate of 2%. One day they observe 4326 visitors and 97 click-throughs. How likely is it that this many people or more click through?\n",
    "\n",
    "n_trials = 4326\n",
    "prob = 0.02\n",
    "click = stats.binom(n_trials, prob)\n",
    "\n",
    "click.sf(96)\n",
    "\n"
   ]
  },
  {
   "cell_type": "code",
   "execution_count": 10,
   "metadata": {},
   "outputs": [
    {
     "output_type": "execute_result",
     "data": {
      "text/plain": [
       "0.9982029897000856"
      ]
     },
     "metadata": {},
     "execution_count": 10
    }
   ],
   "source": [
    "# You are working on some statistics homework consisting of 100 questions where all of the answers are a probability rounded to the hundreths place. Looking to save time, you put down random probabilities as the answer to each question.\n",
    "\n",
    "# What is the probability that at least one of your first 60 answers is correct?\n",
    "n_trials = 60\n",
    "prob = 0.1\n",
    "\n",
    "stats.binom(n_trials, prob).sf(0)\n",
    "\n"
   ]
  },
  {
   "cell_type": "code",
   "execution_count": 11,
   "metadata": {},
   "outputs": [
    {
     "output_type": "error",
     "ename": "NameError",
     "evalue": "name 'flips' is not defined",
     "traceback": [
      "\u001b[0;31m---------------------------------------------------------------------------\u001b[0m",
      "\u001b[0;31mNameError\u001b[0m                                 Traceback (most recent call last)",
      "\u001b[0;32m<ipython-input-11-3429922b635a>\u001b[0m in \u001b[0;36m<module>\u001b[0;34m\u001b[0m\n\u001b[1;32m      6\u001b[0m \u001b[0;34m\u001b[0m\u001b[0m\n\u001b[1;32m      7\u001b[0m \u001b[0;31m# prob of getting 0 heads\u001b[0m\u001b[0;34m\u001b[0m\u001b[0;34m\u001b[0m\u001b[0;34m\u001b[0m\u001b[0m\n\u001b[0;32m----> 8\u001b[0;31m \u001b[0mflips\u001b[0m\u001b[0;34m.\u001b[0m\u001b[0mpmf\u001b[0m\u001b[0;34m(\u001b[0m\u001b[0;36m0\u001b[0m\u001b[0;34m)\u001b[0m\u001b[0;34m\u001b[0m\u001b[0;34m\u001b[0m\u001b[0m\n\u001b[0m\u001b[1;32m      9\u001b[0m \u001b[0;34m\u001b[0m\u001b[0m\n\u001b[1;32m     10\u001b[0m \u001b[0;34m\u001b[0m\u001b[0m\n",
      "\u001b[0;31mNameError\u001b[0m: name 'flips' is not defined"
     ]
    }
   ],
   "source": [
    "# The codeup staff tends to get upset when the student break area is not cleaned up. Suppose that there's a 3% chance that any one student cleans the break area when they visit it, and, on any given day, about 90% of the 3 active cohorts of 22 students visit the break area. How likely is it that the break area gets cleaned up each day? How likely is it that it goes two days without getting cleaned up? All week?\n",
    "\n",
    "n_trials = .9 * 3 * 22\n",
    "prob = .03\n",
    "trips = stats.binom(n_trials, prob)\n",
    "\n",
    "# prob of getting 0 heads\n",
    "trials.pmf(0)\n",
    "\n",
    "\n",
    "\n"
   ]
  },
  {
   "cell_type": "code",
   "execution_count": null,
   "metadata": {},
   "outputs": [],
   "source": [
    "# You want to get lunch at La Panaderia, but notice that the line is usually very long at lunchtime. After several weeks of careful observation, you notice that the average number of people in line when your lunch break starts is normally distributed with a mean of 15 and standard deviation of 3. If it takes 2 minutes for each person to order, and 10 minutes from ordering to getting your food, what is the likelihood that you have at least 15 minutes left to eat your food before you have to go back to class? Assume you have one hour for lunch, and ignore travel time to and from La Panaderia.\n",
    "\n",
    "mean = 15\n",
    "std_dev = 3\n",
    "\n"
   ]
  }
 ]
}